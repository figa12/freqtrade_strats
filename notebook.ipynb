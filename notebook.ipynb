{
 "cells": [
  {
   "cell_type": "code",
   "execution_count": 1,
   "id": "d93676a5-1bac-4a2f-9630-af6bca7087b9",
   "metadata": {
    "ExecuteTime": {
     "end_time": "2023-11-28T21:10:38.831449042Z",
     "start_time": "2023-11-28T21:10:35.804776Z"
    }
   },
   "outputs": [],
   "source": [
    "import vectorbt as vbt"
   ]
  },
  {
   "cell_type": "code",
   "execution_count": 2,
   "id": "d6b38e43-98ed-4d39-a071-3a1a214ae2d5",
   "metadata": {
    "ExecuteTime": {
     "end_time": "2023-11-28T21:10:45.516736619Z",
     "start_time": "2023-11-28T21:10:45.505972086Z"
    }
   },
   "outputs": [],
   "source": [
    "import numpy as np\n",
    "import pandas as pd\n",
    "from datetime import datetime, timedelta\n",
    "import pytz\n",
    "from dateutil.parser import parse\n",
    "import ipywidgets as widgets\n",
    "from copy import deepcopy\n",
    "from tqdm import tqdm\n",
    "import imageio\n",
    "from IPython import display\n",
    "import plotly\n",
    "import plotly.graph_objects as go\n",
    "import itertools\n",
    "import dateparser\n",
    "import gc\n",
    "import kaleido"
   ]
  },
  {
   "cell_type": "code",
   "execution_count": 3,
   "id": "3f00a3d4-400a-49b5-8e16-3d6e449fa5db",
   "metadata": {
    "ExecuteTime": {
     "end_time": "2023-11-28T21:10:47.603555302Z",
     "start_time": "2023-11-28T21:10:47.595585472Z"
    }
   },
   "outputs": [],
   "source": [
    "#Parameters\n",
    "seed = 42\n",
    "symbol = 'BTCUSDT'\n",
    "\n",
    "start_date = datetime(2022, 10, 1, tzinfo=pytz.utc)  # time period for analysis, must be timezone-aware\n",
    "end_date = datetime(2023, 10, 31, tzinfo=pytz.utc)\n",
    "time_buffer = timedelta(days=100)  # buffer before to pre-calculate SMA/EMA, best to set to max window\n",
    "freq = '1d'\n",
    "\n",
    "vbt.settings.portfolio['init_cash'] = 100.  # 100$\n",
    "vbt.settings.portfolio['fees'] = 0.0025  # 0.25%\n",
    "vbt.settings.portfolio['slippage'] = 0.0025  # 0.25%\n",
    "\n"
   ]
  },
  {
   "cell_type": "code",
   "execution_count": 4,
   "id": "0a94eef7-24da-4830-91a8-45d3e6800ba5",
   "metadata": {
    "ExecuteTime": {
     "end_time": "2023-11-28T21:12:01.321705363Z",
     "start_time": "2023-11-28T21:10:49.050898960Z"
    }
   },
   "outputs": [
    {
     "data": {
      "application/vnd.jupyter.widget-view+json": {
       "model_id": "d1d3c4d33b6942dfa897be6be33d5f03",
       "version_major": 2,
       "version_minor": 0
      },
      "text/plain": [
       "0it [00:00, ?it/s]"
      ]
     },
     "metadata": {},
     "output_type": "display_data"
    },
    {
     "name": "stdout",
     "output_type": "stream",
     "text": [
      "(495, 5)\n",
      "Index(['Open', 'High', 'Low', 'Close', 'Volume'], dtype='object')\n"
     ]
    }
   ],
   "source": [
    "cols = ['Open', 'High', 'Low', 'Close', 'Volume']\n",
    "binance_data = vbt.BinanceData.download(\n",
    "    symbol,\n",
    "    start=start_date-time_buffer,\n",
    "    end=end_date,\n",
    "    interval=freq).get(cols)\n",
    "\n",
    "binance_data = binance_data.astype(np.float64)\n",
    "    \n",
    "print(binance_data.shape)\n",
    "print(binance_data.columns)"
   ]
  },
  {
   "cell_type": "code",
   "execution_count": 5,
   "id": "25802483-29c1-4f41-be32-7f2ea20c6a27",
   "metadata": {
    "ExecuteTime": {
     "end_time": "2023-11-28T21:12:05.312911825Z",
     "start_time": "2023-11-28T21:12:05.300362398Z"
    }
   },
   "outputs": [
    {
     "name": "stdout",
     "output_type": "stream",
     "text": [
      "(395, 5)\n"
     ]
    }
   ],
   "source": [
    "# Create a copy of data without time buffer\n",
    "wobuf_mask = (binance_data.index >= start_date) & (binance_data.index <= end_date) # mask without buffer\n",
    "\n",
    "ohlcv = binance_data.loc[wobuf_mask, :]\n",
    "\n",
    "print(ohlcv.shape)"
   ]
  },
  {
   "cell_type": "code",
   "execution_count": 6,
   "id": "45390be5-40f7-47d9-9d01-4e6c1a9f67e3",
   "metadata": {
    "ExecuteTime": {
     "end_time": "2023-11-28T21:13:28.821213837Z",
     "start_time": "2023-11-28T21:13:27.348601398Z"
    }
   },
   "outputs": [
    {
     "data": {
      "application/vnd.jupyter.widget-view+json": {
       "model_id": "ce20f0abfd264af3b0d6175a17e100ff",
       "version_major": 2,
       "version_minor": 0
      },
      "text/plain": [
       "FigureWidget({\n",
       "    'data': [{'close': array([21110.13, 21237.69, 21491.19, ..., 34081.  , 34525.89, 34474.73]),\n",
       "              'decreasing': {'line': {'color': '#d95f02'}},\n",
       "              'high': array([21233.  , 21558.41, 21614.5 , ..., 34493.33, 34750.11, 34856.  ]),\n",
       "              'increasing': {'line': {'color': '#1b9e76'}},\n",
       "              'low': array([19890.07, 20736.72, 20906.62, ..., 33860.  , 33930.  , 34062.84]),\n",
       "              'name': 'OHLC',\n",
       "              'open': array([19988.  , 21110.12, 21237.68, ..., 33892.01, 34081.01, 34525.88]),\n",
       "              'type': 'ohlc',\n",
       "              'uid': 'a27f8279-1754-46dc-a555-28a7715f1c0a',\n",
       "              'x': array([datetime.datetime(2022, 6, 23, 0, 0, tzinfo=datetime.timezone.utc),\n",
       "                          datetime.datetime(2022, 6, 24, 0, 0, tzinfo=datetime.timezone.utc),\n",
       "                          datetime.datetime(2022, 6, 25, 0, 0, tzinfo=datetime.timezone.utc), ...,\n",
       "                          datetime.datetime(2023, 10, 28, 0, 0, tzinfo=datetime.timezone.utc),\n",
       "                          datetime.datetime(2023, 10, 29, 0, 0, tzinfo=datetime.timezone.utc),\n",
       "                          datetime.datetime(2023, 10, 30, 0, 0, tzinfo=datetime.timezone.utc)],\n",
       "                         dtype=object),\n",
       "              'xaxis': 'x',\n",
       "              'yaxis': 'y'},\n",
       "             {'marker': {'color': array(['#1b9e76', '#1b9e76', '#1b9e76', ..., '#1b9e76', '#1b9e76', '#d95f02'],\n",
       "                                        dtype=object),\n",
       "                         'line': {'width': 0}},\n",
       "              'name': 'Volume',\n",
       "              'opacity': 0.5,\n",
       "              'type': 'bar',\n",
       "              'uid': '168c6fbb-39f8-4ad3-b63d-acbd100e8f59',\n",
       "              'x': array([datetime.datetime(2022, 6, 23, 0, 0, tzinfo=datetime.timezone.utc),\n",
       "                          datetime.datetime(2022, 6, 24, 0, 0, tzinfo=datetime.timezone.utc),\n",
       "                          datetime.datetime(2022, 6, 25, 0, 0, tzinfo=datetime.timezone.utc), ...,\n",
       "                          datetime.datetime(2023, 10, 28, 0, 0, tzinfo=datetime.timezone.utc),\n",
       "                          datetime.datetime(2023, 10, 29, 0, 0, tzinfo=datetime.timezone.utc),\n",
       "                          datetime.datetime(2023, 10, 30, 0, 0, tzinfo=datetime.timezone.utc)],\n",
       "                         dtype=object),\n",
       "              'xaxis': 'x2',\n",
       "              'y': array([83127.08716, 77430.36622, 51431.67794, ..., 16880.13144, 20685.52176,\n",
       "                          33657.95976]),\n",
       "              'yaxis': 'y2'}],\n",
       "    'layout': {'bargap': 0,\n",
       "               'height': 1000,\n",
       "               'legend': {'orientation': 'h',\n",
       "                          'traceorder': 'normal',\n",
       "                          'x': 1,\n",
       "                          'xanchor': 'right',\n",
       "                          'y': 1.02,\n",
       "                          'yanchor': 'bottom'},\n",
       "               'margin': {'b': 30, 'l': 30, 'r': 30, 't': 30},\n",
       "               'showlegend': True,\n",
       "               'template': '...',\n",
       "               'width': 2000,\n",
       "               'xaxis': {'anchor': 'y',\n",
       "                         'domain': [0.0, 1.0],\n",
       "                         'matches': 'x2',\n",
       "                         'rangeslider': {'visible': False},\n",
       "                         'showgrid': True,\n",
       "                         'showticklabels': False},\n",
       "               'xaxis2': {'anchor': 'y2', 'domain': [0.0, 1.0], 'showgrid': True},\n",
       "               'yaxis': {'anchor': 'x', 'domain': [0.3, 1.0], 'showgrid': True},\n",
       "               'yaxis2': {'anchor': 'x2', 'domain': [0.0, 0.3], 'showgrid': True}}\n",
       "})"
      ]
     },
     "execution_count": 6,
     "metadata": {},
     "output_type": "execute_result"
    }
   ],
   "source": [
    "# Plot the OHLC data\n",
    "binance_data.vbt.ohlcv.plot(width=2000, height=1000)"
   ]
  },
  {
   "cell_type": "code",
   "execution_count": 7,
   "id": "46ae935d-4969-42fd-aff7-646b8114d55c",
   "metadata": {
    "is_executing": true
   },
   "outputs": [],
   "source": [
    "fast_window = 30\n",
    "slow_window = 80"
   ]
  },
  {
   "cell_type": "code",
   "execution_count": 8,
   "id": "da30a87b-1970-428f-8b0d-45cb41164aff",
   "metadata": {
    "is_executing": true
   },
   "outputs": [
    {
     "name": "stdout",
     "output_type": "stream",
     "text": [
      "(495,)\n",
      "(495,)\n"
     ]
    }
   ],
   "source": [
    "# Pre-calculate running windows on data with time buffer\n",
    "fast_ma = vbt.MA.run(binance_data['Open'], fast_window)\n",
    "slow_ma = vbt.MA.run(binance_data['Open'], slow_window)\n",
    "\n",
    "print(fast_ma.ma.shape)\n",
    "print(slow_ma.ma.shape)\n",
    "\n"
   ]
  },
  {
   "cell_type": "code",
   "execution_count": 9,
   "id": "90dd5e27-a4dc-4fff-ab45-56e957ab80d3",
   "metadata": {
    "is_executing": true
   },
   "outputs": [
    {
     "name": "stdout",
     "output_type": "stream",
     "text": [
      "(395,)\n",
      "(395,)\n"
     ]
    }
   ],
   "source": [
    "# Remove time buffer\n",
    "fast_ma = fast_ma[wobuf_mask]\n",
    "slow_ma = slow_ma[wobuf_mask]\n",
    "\n",
    "# there should be no nans after removing time buffer\n",
    "assert(~fast_ma.ma.isnull().any()) \n",
    "assert(~slow_ma.ma.isnull().any())\n",
    "\n",
    "print(fast_ma.ma.shape)\n",
    "print(slow_ma.ma.shape)"
   ]
  },
  {
   "cell_type": "code",
   "execution_count": 10,
   "id": "bea14887-ef7e-449c-b8fa-b1cc4fd9227c",
   "metadata": {
    "is_executing": true
   },
   "outputs": [],
   "source": [
    "# Generate crossover signals\n",
    "dmac_entries = fast_ma.ma_crossed_above(slow_ma)\n",
    "dmac_exits = fast_ma.ma_crossed_below(slow_ma)"
   ]
  },
  {
   "cell_type": "code",
   "execution_count": 11,
   "id": "a20f640f-06d8-478b-8ea0-d814022877a8",
   "metadata": {
    "is_executing": true
   },
   "outputs": [
    {
     "data": {
      "image/svg+xml": [
       "<svg class=\"main-svg\" xmlns=\"http://www.w3.org/2000/svg\" xmlns:xlink=\"http://www.w3.org/1999/xlink\" width=\"2000\" height=\"1000\" style=\"\" viewBox=\"0 0 2000 1000\"><rect x=\"0\" y=\"0\" width=\"2000\" height=\"1000\" style=\"fill: rgb(255, 255, 255); fill-opacity: 1;\"/><defs id=\"defs-bc7540\"><g class=\"clips\"><clipPath id=\"clipbc7540xyplot\" class=\"plotclip\"><rect width=\"1937\" height=\"911\"/></clipPath><clipPath class=\"axesclip\" id=\"clipbc7540x\"><rect x=\"33\" y=\"0\" width=\"1937\" height=\"1000\"/></clipPath><clipPath class=\"axesclip\" id=\"clipbc7540y\"><rect x=\"0\" y=\"59\" width=\"2000\" height=\"911\"/></clipPath><clipPath class=\"axesclip\" id=\"clipbc7540xy\"><rect x=\"33\" y=\"59\" width=\"1937\" height=\"911\"/></clipPath></g><g class=\"gradients\"/><g class=\"patterns\"/></defs><g class=\"bglayer\"><rect class=\"bg\" x=\"33\" y=\"59\" width=\"1937\" height=\"911\" style=\"fill: rgb(229, 236, 246); fill-opacity: 1; stroke-width: 0;\"/></g><g class=\"layer-below\"><g class=\"imagelayer\"/><g class=\"shapelayer\"/></g><g class=\"cartesianlayer\"><g class=\"subplot xy\"><g class=\"layer-subplot\"><g class=\"shapelayer\"/><g class=\"imagelayer\"/></g><g class=\"minor-gridlayer\"><g class=\"x\"/><g class=\"y\"/></g><g class=\"gridlayer\"><g class=\"x\"><path class=\"xgrid crisp\" transform=\"translate(181.15,0)\" d=\"M0,59v911\" style=\"stroke: rgb(255, 255, 255); stroke-opacity: 1; stroke-width: 1px;\"/><path class=\"xgrid crisp\" transform=\"translate(472.67,0)\" d=\"M0,59v911\" style=\"stroke: rgb(255, 255, 255); stroke-opacity: 1; stroke-width: 1px;\"/><path class=\"xgrid crisp\" transform=\"translate(754.63,0)\" d=\"M0,59v911\" style=\"stroke: rgb(255, 255, 255); stroke-opacity: 1; stroke-width: 1px;\"/><path class=\"xgrid crisp\" transform=\"translate(1046.1599999999999,0)\" d=\"M0,59v911\" style=\"stroke: rgb(255, 255, 255); stroke-opacity: 1; stroke-width: 1px;\"/><path class=\"xgrid crisp\" transform=\"translate(1337.68,0)\" d=\"M0,59v911\" style=\"stroke: rgb(255, 255, 255); stroke-opacity: 1; stroke-width: 1px;\"/><path class=\"xgrid crisp\" transform=\"translate(1633.98,0)\" d=\"M0,59v911\" style=\"stroke: rgb(255, 255, 255); stroke-opacity: 1; stroke-width: 1px;\"/><path class=\"xgrid crisp\" transform=\"translate(1925.5,0)\" d=\"M0,59v911\" style=\"stroke: rgb(255, 255, 255); stroke-opacity: 1; stroke-width: 1px;\"/></g><g class=\"y\"><path class=\"ygrid crisp\" transform=\"translate(0,958.62)\" d=\"M33,0h1937\" style=\"stroke: rgb(255, 255, 255); stroke-opacity: 1; stroke-width: 1px;\"/><path class=\"ygrid crisp\" transform=\"translate(0,739.92)\" d=\"M33,0h1937\" style=\"stroke: rgb(255, 255, 255); stroke-opacity: 1; stroke-width: 1px;\"/><path class=\"ygrid crisp\" transform=\"translate(0,521.22)\" d=\"M33,0h1937\" style=\"stroke: rgb(255, 255, 255); stroke-opacity: 1; stroke-width: 1px;\"/><path class=\"ygrid crisp\" transform=\"translate(0,302.51)\" d=\"M33,0h1937\" style=\"stroke: rgb(255, 255, 255); stroke-opacity: 1; stroke-width: 1px;\"/><path class=\"ygrid crisp\" transform=\"translate(0,83.81)\" d=\"M33,0h1937\" style=\"stroke: rgb(255, 255, 255); stroke-opacity: 1; stroke-width: 1px;\"/></g></g><g class=\"zerolinelayer\"/><path class=\"xlines-below\"/><path class=\"ylines-below\"/><g class=\"overlines-below\"/><g class=\"xaxislayer-below\"/><g class=\"yaxislayer-below\"/><g class=\"overaxes-below\"/><g class=\"plot\" transform=\"translate(33,59)\" clip-path=\"url(#clipbc7540xyplot)\"><g class=\"scatterlayer mlayer\"><g class=\"trace scatter trace42a5847a-5a2d-47ed-ac60-56cd904aa60a\" style=\"stroke-miterlimit: 2; opacity: 1;\"><g class=\"fills\"/><g class=\"errorbars\"/><g class=\"lines\"><path class=\"js-line\" d=\"M0,706.18L4.78,711L9.56,722.14L14.34,697.15L19.12,666.14L28.67,682.64L33.45,701.48L38.23,706.44L43.01,705.42L47.79,718.89L52.57,722.04L57.35,717.88L62.13,708.23L66.91,716.92L71.69,721.67L76.46,713.16L81.24,700.67L90.8,719.27L95.58,722.83L100.36,717.47L105.14,715.73L109.92,699.71L114.7,710.2L124.25,647.17L129.03,668.01L133.81,655.03L138.59,645.51L143.37,653.47L148.15,659.46L152.93,659.8L157.71,674.28L162.49,671.86L167.27,630.68L172.05,624.09L176.82,641.31L181.6,655.08L186.38,744.55L191.16,859.27L195.94,785.79L200.72,809.08L205.5,820.32L210.28,841.37L215.06,828.86L219.84,816.49L224.61,826.94L229.39,825.59L234.17,825.29L238.95,825.24L243.73,843.66L248.51,865.45L253.29,845.91L258.07,829.5L262.85,829.66L272.41,835.87L277.18,837.13L281.96,846.6L286.74,836.51L291.52,804.9L296.3,813.11L301.08,808.11L305.86,817.16L310.64,807.48L315.42,813.61L320.2,808.25L324.97,819.29L329.75,802.34L334.53,806.52L339.31,806.57L344.09,808.42L348.87,803L353.65,778.21L358.43,776.97L363.21,796.53L367.99,828.26L372.76,821.87L377.54,823.56L382.32,836.69L387.1,816.69L391.88,819.81L396.66,819.93L401.44,821.83L406.22,819.33L411,819.49L415.78,815.67L420.56,825L425.33,831.94L430.11,828.18L434.89,829.31L439.67,832.19L449.23,826.46L454.01,826.33L458.79,818.69L463.57,819.5L468.35,814.32L473.12,814.6L477.9,806.55L482.68,804.31L487.46,792.87L492.24,770.88L497.02,731.37L501.8,683.98L506.58,639.25L511.36,642.74L516.14,629.06L520.91,631.39L525.69,651.29L530.47,634.05L535.25,564.31L540.03,559.18L544.81,562.56L549.59,553.29L554.37,565.8L559.15,547.06L563.93,549.28L568.71,546.46L573.48,548.76L578.26,517.18L583.04,557.25L587.82,544.23L592.6,517.71L597.38,528.3L602.16,530.81L606.94,535.37L611.72,552.63L616.5,560.09L621.27,539.1L626.05,551.37L630.83,602.28L635.61,609.83L640.39,599.48L645.17,602.96L649.95,603.3L654.73,584.7L659.51,491.84L664.29,527.05L669.07,481.1L673.84,478.31L678.62,494.04L683.4,469.05L688.18,486.25L692.96,497.99L697.74,508.57L702.52,541.65L707.3,542.83L712.08,525.43L716.86,528.17L721.63,543.51L726.41,522.15L731.19,529.35L735.97,577.94L740.75,578.28L745.53,574.62L750.31,575.53L755.09,584.75L759.87,606.37L764.65,665.08L769.42,674.33L774.2,660.99L778.98,593.53L783.76,501.05L788.54,476.63L793.32,493.46L798.1,462.27L802.88,357.45L807.66,378.78L812.44,332.18L817.22,343.37L821.99,326.28L826.77,363.76L831.55,318.07L836.33,354.86L841.11,354.49L845.89,332.39L850.67,369.27L855.45,363.32L860.23,315.75L865.01,329.75L869.78,310.64L874.56,311.19L879.34,323.48L884.12,339.74L888.9,323.76L893.68,323.56L903.24,335.09L908.02,333.69L912.8,316.83L917.57,259.38L922.35,234.75L927.13,248.41L931.91,227.16L936.69,223.09L941.47,230.61L946.25,230.19L951.03,268.44L955.81,226.89L960.59,296.13L965.37,320.34L970.14,363.24L974.92,339.01L979.7,348.9L984.48,352.39L989.26,317.84L994.04,312.83L998.82,266.58L1003.6,273.62L1008.38,277.18L1013.16,277.06L1017.93,328.01L1022.71,301.7L1027.49,286.11L1032.27,294.33L1037.05,265.14L1041.83,293.9L1046.61,312.18L1051.39,345.48L1060.95,348.55L1065.73,376.11L1070.5,383.7L1075.28,384.57L1080.06,378.34L1084.84,367.64L1089.62,373.26L1094.4,356.99L1099.18,382.55L1103.96,379.97L1108.74,370.26L1113.52,385.77L1118.29,381.33L1123.07,365.13L1127.85,404.09L1132.63,397.75L1137.41,387.6L1142.19,381.11L1146.97,328.15L1151.75,342.53L1156.53,344.36L1161.31,365.54L1166.08,382.7L1170.86,364.13L1175.64,371.71L1180.42,369.7L1185.2,430.37L1189.98,364.67L1194.76,403.63L1199.54,396.67L1204.32,397.58L1209.1,425.42L1213.88,421.73L1218.65,422.62L1223.43,421.35L1228.21,456.59L1232.99,436.04L1237.77,403.39L1242.55,395.86L1247.33,403.61L1252.11,381.54L1256.89,317.52L1261.67,243.78L1266.44,248.55L1271.22,213.4L1276,220.44L1280.78,223.28L1285.56,231.79L1290.34,213.23L1295.12,240.13L1299.9,223.95L1304.68,222.87L1309.46,217.89L1314.24,216.53L1319.01,192.94L1323.79,209.99L1328.57,221.43L1333.35,248.09L1338.13,228.44L1342.91,231.06L1347.69,236.49L1352.47,225.51L1357.25,216.3L1362.03,226.89L1366.8,179.91L1371.58,229.87L1376.36,230.85L1381.14,233.37L1385.92,237.48L1390.7,249.68L1395.48,247.49L1400.26,252.26L1405.04,247.81L1409.82,252.53L1414.59,239.85L1419.37,279.54L1424.15,277.24L1428.93,271.86L1433.71,277.51L1438.49,273.51L1443.27,271.82L1448.05,274.96L1452.83,277.1L1457.61,256.37L1462.39,279.12L1467.16,278.79L1471.94,282.27L1476.72,284.1L1481.5,283.39L1486.28,278.02L1491.06,253.56L1495.84,261.8L1500.62,267.32L1505.4,268.62L1510.18,268.44L1514.95,273.96L1519.73,268.41L1524.51,278.51L1529.29,299.04L1534.07,391.21L1538.85,416.12L1543.63,414.1L1548.41,410.17L1553.19,412.93L1557.97,416.03L1562.74,399.55L1567.52,410.6L1572.3,415.85L1577.08,417.72L1581.86,414.03L1586.64,413.23L1591.42,343.4L1596.2,361.61L1600.98,421.07L1605.76,427L1610.54,424.18L1615.31,419.74L1620.09,426.09L1629.65,428.98L1634.43,407.32L1639.21,422.39L1643.99,422.78L1648.77,425.41L1653.55,455.11L1658.33,425.47L1663.1,408.77L1667.88,395.61L1672.66,392.23L1682.22,395.4L1687,385.13L1691.78,365.54L1696.56,369.27L1701.34,393.63L1706.12,393.1L1710.9,393.28L1715.67,407.61L1720.45,405.15L1725.23,408.78L1730.01,402.16L1734.79,373.8L1739.57,378.81L1744.35,376.37L1749.13,331.32L1753.91,353.11L1758.69,356.08L1763.46,340.68L1768.24,356.79L1773.02,334.01L1777.8,332.89L1782.58,334.62L1787.36,348.92L1792.14,357.67L1796.92,380.18L1801.7,385.25L1806.48,380.77L1811.25,381.19L1816.03,367.99L1820.81,309.09L1825.59,313.68L1830.37,317L1835.15,299.78L1839.93,257.99L1844.71,247.46L1849.49,243.84L1854.27,109.23L1859.05,71.93L1863.82,46.85L1868.6,61.92L1873.38,73.28L1878.16,65.01L1882.94,45.55\" style=\"vector-effect: none; fill: none; stroke: rgb(31, 119, 180); stroke-opacity: 1; stroke-width: 2px; opacity: 1;\"/></g><g class=\"points\"/><g class=\"text\"/></g><g class=\"trace scatter trace1745cad3-c5bf-41de-8413-a6818437e365\" style=\"stroke-miterlimit: 2; opacity: 1;\"><g class=\"fills\"/><g class=\"errorbars\"/><g class=\"lines\"><path class=\"js-line\" d=\"M0,689.95L9.56,692.45L14.34,692.74L23.9,691.72L28.67,690.02L38.23,689.53L43.01,692.33L52.57,700.03L57.35,704.76L76.46,709.17L81.24,709.99L95.58,710.48L100.36,709.45L109.92,709.33L114.7,708.73L152.93,693.81L157.71,693.04L162.49,693.23L167.27,691.79L181.6,686.12L186.38,687.43L191.16,692.11L195.94,694.23L205.5,701.01L210.28,705.15L238.95,727.17L243.73,731.38L253.29,741.24L258.07,745.22L262.85,750.29L267.63,756.49L277.18,768.15L281.96,774.86L286.74,780.96L291.52,785.81L310.64,806.11L315.42,812.43L324.97,823.47L329.75,825.4L334.53,823.64L339.31,824.33L348.87,823.73L353.65,821.63L358.43,819.9L363.21,819.23L382.32,819.47L387.1,818.58L396.66,816.19L401.44,815.93L430.11,813.29L434.89,814.1L454.01,816.37L458.79,816.54L473.12,817.16L477.9,817.16L487.46,816.57L492.24,815.49L497.02,813.93L501.8,810.83L511.36,799.41L516.14,792.98L530.47,774.31L535.25,765.79L563.93,712.99L568.71,703.47L587.82,665.1L592.6,654.81L606.94,625.81L611.72,617.08L626.05,591.25L630.83,584.9L640.39,575.14L645.17,572.43L654.73,569.3L659.51,564.73L664.29,561.25L669.07,555.58L673.84,550.39L678.62,548.04L688.18,542.49L692.96,540.65L697.74,538.74L702.52,538.56L712.08,537.65L716.86,536.96L721.63,537.84L726.41,536.67L731.19,536.17L735.97,538.18L750.31,542.65L755.09,543.72L759.87,545.26L764.65,549.46L769.42,553.56L774.2,555.51L778.98,554.97L783.76,551.69L802.88,535.26L807.66,530.32L821.99,515.26L826.77,511.75L836.33,501.38L841.11,496.24L850.67,483.48L855.45,478.08L874.56,449.55L879.34,441.06L898.46,407.84L903.24,398.8L912.8,375.84L917.57,362.45L922.35,350.49L927.13,342.07L941.47,317.02L946.25,312.78L955.81,305.59L960.59,304.02L970.14,303.8L974.92,304.5L989.26,303.75L994.04,301.86L998.82,298.64L1003.6,297.23L1013.16,294.36L1017.93,294.92L1022.71,294.2L1027.49,292.41L1032.27,291.43L1037.05,289.48L1046.61,287.53L1051.39,287.92L1056.17,288.94L1060.95,291.91L1089.62,320.89L1094.4,323.84L1099.18,329.03L1103.96,331.83L1108.74,333.49L1113.52,334.24L1118.29,335.65L1123.07,336.19L1127.85,337.92L1132.63,340.58L1137.41,343.07L1142.19,346.89L1161.31,354.38L1166.08,357.08L1175.64,362.26L1180.42,365.75L1185.2,370.29L1189.98,372.04L1204.32,377.26L1209.1,378.91L1223.43,382.88L1228.21,385.84L1237.77,389.48L1242.55,389.93L1252.11,391.09L1256.89,388.81L1266.44,380.34L1271.22,373.99L1280.78,362.6L1285.56,357.62L1299.9,346.36L1304.68,341.61L1323.79,319.91L1328.57,312.95L1333.35,309.06L1338.13,303.22L1352.47,285.67L1357.25,278.82L1362.03,272.3L1366.8,264.25L1376.36,249.85L1381.14,244.18L1395.48,229.3L1400.26,227.13L1409.82,227.4L1414.59,228.28L1433.71,235.52L1438.49,236.64L1457.61,243.27L1462.39,246.14L1471.94,250.47L1476.72,251.67L1486.28,255.06L1491.06,255.63L1505.4,259.93L1510.18,262.88L1529.29,269.16L1534.07,273.88L1557.97,301.53L1562.74,305.53L1581.86,324.13L1586.64,328.84L1596.2,333.94L1600.98,339.43L1643.99,384.02L1648.77,389.25L1658.33,400.52L1663.1,405.2L1672.66,412.21L1677.44,412.3L1687,410.65L1691.78,409.16L1701.34,406.96L1706.12,406.74L1720.45,405.47L1725.23,405.3L1730.01,404.93L1734.79,405.94L1739.57,406.51L1744.35,405.02L1753.91,399.46L1758.69,397.34L1787.36,381.1L1792.14,378.84L1796.92,376.35L1801.7,375.01L1816.03,372.78L1820.81,369.95L1830.37,364.96L1835.15,362.77L1839.93,359.06L1844.71,354.19L1849.49,349.21L1854.27,339.74L1882.94,272.68\" style=\"vector-effect: none; fill: none; stroke: rgb(255, 127, 14); stroke-opacity: 1; stroke-width: 2px; opacity: 1;\"/></g><g class=\"points\"/><g class=\"text\"/></g><g class=\"trace scatter traced96e1ccf-979e-40a3-b4c9-673802dbdacd\" style=\"stroke-miterlimit: 2; opacity: 1;\"><g class=\"fills\"/><g class=\"errorbars\"/><g class=\"lines\"><path class=\"js-line\" d=\"M0,620.56L23.9,623.38L28.67,624.73L57.35,636.62L62.13,637.68L66.91,638.81L71.69,640.94L95.58,652.71L100.36,654.8L119.48,662.19L124.25,663.5L138.59,668.55L143.37,670.35L167.27,680.53L172.05,681.65L176.82,682.9L181.6,683.03L186.38,684.45L191.16,687.51L205.5,694.52L210.28,697.37L229.39,704.62L234.17,706.32L248.51,712.54L253.29,714.51L267.63,719.35L272.41,720.9L277.18,722.48L281.96,725.3L296.3,733.65L301.08,735.34L315.42,740.14L320.2,741.79L334.53,745.42L339.31,746.15L348.87,748.55L353.65,749.18L363.21,750.75L367.99,752.09L401.44,762.74L406.22,764.56L425.33,770.76L430.11,772.13L482.68,786.51L487.46,787.48L497.02,788.63L501.8,788.71L530.47,787.45L535.25,786.26L549.59,782.48L554.37,781.76L563.93,779.25L568.71,776.78L578.26,769.54L583.04,766.39L597.38,755.14L602.16,751.57L626.05,733.96L630.83,730.67L654.73,716L659.51,711.69L697.74,679.12L702.52,675.79L731.19,655.11L735.97,652.6L745.53,647.35L750.31,644.19L759.87,638.51L764.65,636.36L774.2,632.6L778.98,629.77L798.1,612.98L802.88,607.14L817.22,589.2L821.99,582.87L879.34,512.78L884.12,508.47L955.81,449.56L960.59,446.8L970.14,441.57L974.92,439.34L989.26,432.15L994.04,429.15L1032.27,399.6L1037.05,395.61L1051.39,388.75L1056.17,387.11L1065.73,384.13L1070.5,382.85L1080.06,379.81L1084.84,377.63L1108.74,367.64L1113.52,365.85L1142.19,351.09L1146.97,346.88L1156.53,338.78L1161.31,335.93L1180.42,330.36L1185.2,331.27L1189.98,331.1L1194.76,331.99L1209.1,334.32L1213.88,335.61L1252.11,343L1256.89,343.07L1271.22,339.56L1276,338.27L1295.12,333.19L1299.9,332.74L1338.13,331.1L1342.91,330.29L1352.47,327.52L1357.25,325.98L1371.58,321.2L1376.36,320.18L1400.26,317.65L1405.04,316.98L1419.37,316.06L1424.15,315.85L1438.49,313.57L1443.27,312.61L1505.4,295.86L1510.18,294.17L1524.51,289.85L1529.29,289.48L1562.74,293.48L1567.52,293.23L1577.08,294.04L1581.86,294.26L1586.64,294.46L1591.42,293.43L1600.98,292.66L1605.76,292.73L1615.31,292.12L1620.09,292.41L1634.43,293.44L1639.21,294.75L1653.55,302.22L1658.33,304.79L1677.44,313.31L1682.22,315.46L1706.12,326.04L1710.9,328.18L1749.13,344.33L1753.91,345.87L1773.02,351.32L1777.8,352.39L1792.14,355.99L1796.92,357.75L1816.03,362.86L1820.81,363.31L1839.93,364.66L1844.71,364.26L1849.49,363.83L1854.27,361.66L1882.94,345.87\" style=\"vector-effect: none; fill: none; stroke: rgb(44, 160, 44); stroke-opacity: 1; stroke-width: 2px; opacity: 1;\"/></g><g class=\"points\"/><g class=\"text\"/></g><g class=\"trace scatter trace7175abb3-5343-403f-b6b4-9054e3146a05\" style=\"stroke-miterlimit: 2; opacity: 1;\"><g class=\"fills\"/><g class=\"errorbars\"/><g class=\"lines\"/><g class=\"points\"><path class=\"point\" transform=\"translate(520.91,631.39)\" d=\"M-4.62,2H4.62L0,-4Z\" style=\"opacity: 1; stroke-width: 1px; fill: rgb(55, 177, 63); fill-opacity: 1; stroke: rgb(38, 123, 44); stroke-opacity: 1;\"/><path class=\"point\" transform=\"translate(1314.24,216.53)\" d=\"M-4.62,2H4.62L0,-4Z\" style=\"opacity: 1; stroke-width: 1px; fill: rgb(55, 177, 63); fill-opacity: 1; stroke: rgb(38, 123, 44); stroke-opacity: 1;\"/><path class=\"point\" transform=\"translate(1835.15,299.78)\" d=\"M-4.62,2H4.62L0,-4Z\" style=\"opacity: 1; stroke-width: 1px; fill: rgb(55, 177, 63); fill-opacity: 1; stroke: rgb(38, 123, 44); stroke-opacity: 1;\"/></g><g class=\"text\"/></g><g class=\"trace scatter trace53ed29ea-fd8f-4369-a920-af1d21fdf77f\" style=\"stroke-miterlimit: 2; opacity: 1;\"><g class=\"fills\"/><g class=\"errorbars\"/><g class=\"lines\"/><g class=\"points\"><path class=\"point\" transform=\"translate(1146.97,328.15)\" d=\"M-4.62,-2H4.62L0,4Z\" style=\"opacity: 1; stroke-width: 1px; fill: rgb(234, 67, 53); fill-opacity: 1; stroke: rgb(181, 31, 18); stroke-opacity: 1;\"/><path class=\"point\" transform=\"translate(1553.19,412.93)\" d=\"M-4.62,-2H4.62L0,4Z\" style=\"opacity: 1; stroke-width: 1px; fill: rgb(234, 67, 53); fill-opacity: 1; stroke: rgb(181, 31, 18); stroke-opacity: 1;\"/></g><g class=\"text\"/></g></g></g><g class=\"overplot\"/><path class=\"xlines-above crisp\" d=\"M0,0\" style=\"fill: none;\"/><path class=\"ylines-above crisp\" d=\"M0,0\" style=\"fill: none;\"/><g class=\"overlines-above\"/><g class=\"xaxislayer-above\"><g class=\"xtick\"><text text-anchor=\"middle\" x=\"0\" y=\"983\" transform=\"translate(181.15,0)\" style=\"font-family: 'Open Sans', verdana, arial, sans-serif; font-size: 12px; fill: rgb(42, 63, 95); fill-opacity: 1; white-space: pre; opacity: 1;\">Nov 2022</text></g><g class=\"xtick\"><text text-anchor=\"middle\" x=\"0\" y=\"983\" style=\"font-family: 'Open Sans', verdana, arial, sans-serif; font-size: 12px; fill: rgb(42, 63, 95); fill-opacity: 1; white-space: pre; opacity: 1;\" transform=\"translate(472.67,0)\">Jan 2023</text></g><g class=\"xtick\"><text text-anchor=\"middle\" x=\"0\" y=\"983\" style=\"font-family: 'Open Sans', verdana, arial, sans-serif; font-size: 12px; fill: rgb(42, 63, 95); fill-opacity: 1; white-space: pre; opacity: 1;\" transform=\"translate(754.63,0)\">Mar 2023</text></g><g class=\"xtick\"><text text-anchor=\"middle\" x=\"0\" y=\"983\" style=\"font-family: 'Open Sans', verdana, arial, sans-serif; font-size: 12px; fill: rgb(42, 63, 95); fill-opacity: 1; white-space: pre; opacity: 1;\" transform=\"translate(1046.1599999999999,0)\">May 2023</text></g><g class=\"xtick\"><text text-anchor=\"middle\" x=\"0\" y=\"983\" style=\"font-family: 'Open Sans', verdana, arial, sans-serif; font-size: 12px; fill: rgb(42, 63, 95); fill-opacity: 1; white-space: pre; opacity: 1;\" transform=\"translate(1337.68,0)\">Jul 2023</text></g><g class=\"xtick\"><text text-anchor=\"middle\" x=\"0\" y=\"983\" style=\"font-family: 'Open Sans', verdana, arial, sans-serif; font-size: 12px; fill: rgb(42, 63, 95); fill-opacity: 1; white-space: pre; opacity: 1;\" transform=\"translate(1633.98,0)\">Sep 2023</text></g><g class=\"xtick\"><text text-anchor=\"middle\" x=\"0\" y=\"983\" style=\"font-family: 'Open Sans', verdana, arial, sans-serif; font-size: 12px; fill: rgb(42, 63, 95); fill-opacity: 1; white-space: pre; opacity: 1;\" transform=\"translate(1925.5,0)\">Nov 2023</text></g></g><g class=\"yaxislayer-above\"><g class=\"ytick\"><text text-anchor=\"end\" x=\"32\" y=\"4.199999999999999\" transform=\"translate(0,958.62)\" style=\"font-family: 'Open Sans', verdana, arial, sans-serif; font-size: 12px; fill: rgb(42, 63, 95); fill-opacity: 1; white-space: pre; opacity: 1;\">15k</text></g><g class=\"ytick\"><text text-anchor=\"end\" x=\"32\" y=\"4.199999999999999\" style=\"font-family: 'Open Sans', verdana, arial, sans-serif; font-size: 12px; fill: rgb(42, 63, 95); fill-opacity: 1; white-space: pre; opacity: 1;\" transform=\"translate(0,739.92)\">20k</text></g><g class=\"ytick\"><text text-anchor=\"end\" x=\"32\" y=\"4.199999999999999\" style=\"font-family: 'Open Sans', verdana, arial, sans-serif; font-size: 12px; fill: rgb(42, 63, 95); fill-opacity: 1; white-space: pre; opacity: 1;\" transform=\"translate(0,521.22)\">25k</text></g><g class=\"ytick\"><text text-anchor=\"end\" x=\"32\" y=\"4.199999999999999\" style=\"font-family: 'Open Sans', verdana, arial, sans-serif; font-size: 12px; fill: rgb(42, 63, 95); fill-opacity: 1; white-space: pre; opacity: 1;\" transform=\"translate(0,302.51)\">30k</text></g><g class=\"ytick\"><text text-anchor=\"end\" x=\"32\" y=\"4.199999999999999\" style=\"font-family: 'Open Sans', verdana, arial, sans-serif; font-size: 12px; fill: rgb(42, 63, 95); fill-opacity: 1; white-space: pre; opacity: 1;\" transform=\"translate(0,83.81)\">35k</text></g></g><g class=\"overaxes-above\"/></g></g><g class=\"polarlayer\"/><g class=\"smithlayer\"/><g class=\"ternarylayer\"/><g class=\"geolayer\"/><g class=\"funnelarealayer\"/><g class=\"pielayer\"/><g class=\"iciclelayer\"/><g class=\"treemaplayer\"/><g class=\"sunburstlayer\"/><g class=\"glimages\"/><defs id=\"topdefs-bc7540\"><g class=\"clips\"/><clipPath id=\"legendbc7540\"><rect width=\"397\" height=\"29\" x=\"0\" y=\"0\"/></clipPath></defs><g class=\"layer-above\"><g class=\"imagelayer\"/><g class=\"shapelayer\"/></g><g class=\"infolayer\"><g class=\"legend\" pointer-events=\"all\" transform=\"translate(1573,11.779999999999987)\"><rect class=\"bg\" shape-rendering=\"crispEdges\" style=\"stroke: rgb(68, 68, 68); stroke-opacity: 1; fill: rgb(255, 255, 255); fill-opacity: 1; stroke-width: 0px;\" width=\"397\" height=\"29\" x=\"0\" y=\"0\"/><g class=\"scrollbox\" transform=\"\" clip-path=\"url(#legendbc7540)\"><g class=\"groups\"><g class=\"traces\" transform=\"translate(0,14.5)\" style=\"opacity: 1;\"><text class=\"legendtext\" text-anchor=\"start\" x=\"40\" y=\"4.680000000000001\" style=\"font-family: 'Open Sans', verdana, arial, sans-serif; font-size: 12px; fill: rgb(42, 63, 95); fill-opacity: 1; white-space: pre;\">Price</text><g class=\"layers\" style=\"opacity: 1;\"><g class=\"legendfill\"/><g class=\"legendlines\"><path class=\"js-line\" d=\"M5,0h30\" style=\"fill: none; stroke: rgb(31, 119, 180); stroke-opacity: 1; stroke-width: 2px;\"/></g><g class=\"legendsymbols\"><g class=\"legendpoints\"/></g></g><rect class=\"legendtoggle\" x=\"0\" y=\"-9.5\" width=\"70.375\" height=\"19\" style=\"fill: rgb(0, 0, 0); fill-opacity: 0;\"/></g><g class=\"traces\" transform=\"translate(72.875,14.5)\" style=\"opacity: 1;\"><text class=\"legendtext\" text-anchor=\"start\" x=\"40\" y=\"4.680000000000001\" style=\"font-family: 'Open Sans', verdana, arial, sans-serif; font-size: 12px; fill: rgb(42, 63, 95); fill-opacity: 1; white-space: pre;\">Fast MA</text><g class=\"layers\" style=\"opacity: 1;\"><g class=\"legendfill\"/><g class=\"legendlines\"><path class=\"js-line\" d=\"M5,0h30\" style=\"fill: none; stroke: rgb(255, 127, 14); stroke-opacity: 1; stroke-width: 2px;\"/></g><g class=\"legendsymbols\"><g class=\"legendpoints\"/></g></g><rect class=\"legendtoggle\" x=\"0\" y=\"-9.5\" width=\"87.28125\" height=\"19\" style=\"fill: rgb(0, 0, 0); fill-opacity: 0;\"/></g><g class=\"traces\" transform=\"translate(162.65625,14.5)\" style=\"opacity: 1;\"><text class=\"legendtext\" text-anchor=\"start\" x=\"40\" y=\"4.680000000000001\" style=\"font-family: 'Open Sans', verdana, arial, sans-serif; font-size: 12px; fill: rgb(42, 63, 95); fill-opacity: 1; white-space: pre;\">Slow MA</text><g class=\"layers\" style=\"opacity: 1;\"><g class=\"legendfill\"/><g class=\"legendlines\"><path class=\"js-line\" d=\"M5,0h30\" style=\"fill: none; stroke: rgb(44, 160, 44); stroke-opacity: 1; stroke-width: 2px;\"/></g><g class=\"legendsymbols\"><g class=\"legendpoints\"/></g></g><rect class=\"legendtoggle\" x=\"0\" y=\"-9.5\" width=\"90.65625\" height=\"19\" style=\"fill: rgb(0, 0, 0); fill-opacity: 0;\"/></g><g class=\"traces\" transform=\"translate(255.8125,14.5)\" style=\"opacity: 1;\"><text class=\"legendtext\" text-anchor=\"start\" x=\"40\" y=\"4.680000000000001\" style=\"font-family: 'Open Sans', verdana, arial, sans-serif; font-size: 12px; fill: rgb(42, 63, 95); fill-opacity: 1; white-space: pre;\">Entry</text><g class=\"layers\" style=\"opacity: 1;\"><g class=\"legendfill\"/><g class=\"legendlines\"/><g class=\"legendsymbols\"><g class=\"legendpoints\"><path class=\"scatterpts\" transform=\"translate(20,0)\" d=\"M-4.62,2H4.62L0,-4Z\" style=\"opacity: 1; stroke-width: 1px; fill: rgb(55, 177, 63); fill-opacity: 1; stroke: rgb(38, 123, 44); stroke-opacity: 1;\"/></g></g></g><rect class=\"legendtoggle\" x=\"0\" y=\"-9.5\" width=\"72.6875\" height=\"19\" style=\"fill: rgb(0, 0, 0); fill-opacity: 0;\"/></g><g class=\"traces\" transform=\"translate(331,14.5)\" style=\"opacity: 1;\"><text class=\"legendtext\" text-anchor=\"start\" x=\"40\" y=\"4.680000000000001\" style=\"font-family: 'Open Sans', verdana, arial, sans-serif; font-size: 12px; fill: rgb(42, 63, 95); fill-opacity: 1; white-space: pre;\">Exit</text><g class=\"layers\" style=\"opacity: 1;\"><g class=\"legendfill\"/><g class=\"legendlines\"/><g class=\"legendsymbols\"><g class=\"legendpoints\"><path class=\"scatterpts\" transform=\"translate(20,0)\" d=\"M-4.62,-2H4.62L0,4Z\" style=\"opacity: 1; stroke-width: 1px; fill: rgb(234, 67, 53); fill-opacity: 1; stroke: rgb(181, 31, 18); stroke-opacity: 1;\"/></g></g></g><rect class=\"legendtoggle\" x=\"0\" y=\"-9.5\" width=\"62.734375\" height=\"19\" style=\"fill: rgb(0, 0, 0); fill-opacity: 0;\"/></g></g></g><rect class=\"scrollbar\" rx=\"20\" ry=\"3\" width=\"0\" height=\"0\" style=\"fill: rgb(128, 139, 164); fill-opacity: 1;\" x=\"0\" y=\"0\"/></g><g class=\"g-gtitle\"/><g class=\"g-xtitle\"/><g class=\"g-ytitle\"/></g></svg>"
      ]
     },
     "metadata": {},
     "output_type": "display_data"
    }
   ],
   "source": [
    "fig = ohlcv['Open'].vbt.plot(trace_kwargs=dict(name='Price'))\n",
    "fig = fast_ma.ma.vbt.plot(trace_kwargs=dict(name='Fast MA'), fig=fig)\n",
    "fig = slow_ma.ma.vbt.plot(trace_kwargs=dict(name='Slow MA'), fig=fig)\n",
    "fig = dmac_entries.vbt.signals.plot_as_entry_markers(ohlcv['Open'], fig=fig)\n",
    "fig = dmac_exits.vbt.signals.plot_as_exit_markers(ohlcv['Open'], fig=fig)\n",
    "\n",
    "fig.show_svg(width=2000, height=1000)"
   ]
  },
  {
   "cell_type": "code",
   "execution_count": 12,
   "id": "9e5dec0a-5e65-4081-a925-9c05aca7dce5",
   "metadata": {
    "is_executing": true
   },
   "outputs": [
    {
     "name": "stdout",
     "output_type": "stream",
     "text": [
      "Start                       2022-10-01 00:00:00+00:00\n",
      "End                         2023-10-30 00:00:00+00:00\n",
      "Period                              395 days 00:00:00\n",
      "Total                                               3\n",
      "Rate [%]                                     0.759494\n",
      "Total Overlapping                                   0\n",
      "Overlapping Rate [%]                              0.0\n",
      "First Index                 2023-01-18 00:00:00+00:00\n",
      "Last Index                  2023-10-20 00:00:00+00:00\n",
      "Norm Avg Index [-1, 1]                       0.299492\n",
      "Distance -> Other: Min               50 days 00:00:00\n",
      "Distance -> Other: Max              131 days 00:00:00\n",
      "Distance -> Other: Mean              90 days 12:00:00\n",
      "Distance -> Other: Std               57 days 06:36:56\n",
      "Total Partitions                                    3\n",
      "Partition Rate [%]                              100.0\n",
      "Partition Length: Min                 1 days 00:00:00\n",
      "Partition Length: Max                 1 days 00:00:00\n",
      "Partition Length: Mean                1 days 00:00:00\n",
      "Partition Length: Std                 0 days 00:00:00\n",
      "Partition Distance: Min             109 days 00:00:00\n",
      "Partition Distance: Max             166 days 00:00:00\n",
      "Partition Distance: Mean            137 days 12:00:00\n",
      "Partition Distance: Std              40 days 07:19:19\n",
      "dtype: object\n"
     ]
    }
   ],
   "source": [
    "# Signal stats\n",
    "print(dmac_entries.vbt.signals.stats(settings=dict(other=dmac_exits)))"
   ]
  },
  {
   "cell_type": "code",
   "execution_count": 13,
   "id": "375f1b26-4732-41fc-9f38-c55d1f634d61",
   "metadata": {
    "is_executing": true
   },
   "outputs": [
    {
     "data": {
      "application/vnd.jupyter.widget-view+json": {
       "model_id": "202155a1db704873b4f47187782eb90f",
       "version_major": 2,
       "version_minor": 0
      },
      "text/plain": [
       "FigureWidget({\n",
       "    'data': [{'mode': 'lines',\n",
       "              'name': 'Entries',\n",
       "              'showlegend': True,\n",
       "              'type': 'scatter',\n",
       "              'uid': 'aad05dc7-4c8e-49df-8739-afbf6b6adcca',\n",
       "              'x': array([datetime.datetime(2022, 10, 1, 0, 0, tzinfo=datetime.timezone.utc),\n",
       "                          datetime.datetime(2022, 10, 2, 0, 0, tzinfo=datetime.timezone.utc),\n",
       "                          datetime.datetime(2022, 10, 3, 0, 0, tzinfo=datetime.timezone.utc), ...,\n",
       "                          datetime.datetime(2023, 10, 28, 0, 0, tzinfo=datetime.timezone.utc),\n",
       "                          datetime.datetime(2023, 10, 29, 0, 0, tzinfo=datetime.timezone.utc),\n",
       "                          datetime.datetime(2023, 10, 30, 0, 0, tzinfo=datetime.timezone.utc)],\n",
       "                         dtype=object),\n",
       "              'y': array([False, False, False, ..., False, False, False], dtype=object)},\n",
       "             {'mode': 'lines',\n",
       "              'name': 'Exits',\n",
       "              'showlegend': True,\n",
       "              'type': 'scatter',\n",
       "              'uid': '9e8078c8-61cc-401d-903f-2045427c02cd',\n",
       "              'x': array([datetime.datetime(2022, 10, 1, 0, 0, tzinfo=datetime.timezone.utc),\n",
       "                          datetime.datetime(2022, 10, 2, 0, 0, tzinfo=datetime.timezone.utc),\n",
       "                          datetime.datetime(2022, 10, 3, 0, 0, tzinfo=datetime.timezone.utc), ...,\n",
       "                          datetime.datetime(2023, 10, 28, 0, 0, tzinfo=datetime.timezone.utc),\n",
       "                          datetime.datetime(2023, 10, 29, 0, 0, tzinfo=datetime.timezone.utc),\n",
       "                          datetime.datetime(2023, 10, 30, 0, 0, tzinfo=datetime.timezone.utc)],\n",
       "                         dtype=object),\n",
       "              'y': array([False, False, False, ..., False, False, False], dtype=object)}],\n",
       "    'layout': {'height': 350,\n",
       "               'legend': {'orientation': 'h',\n",
       "                          'traceorder': 'normal',\n",
       "                          'x': 1,\n",
       "                          'xanchor': 'right',\n",
       "                          'y': 1.02,\n",
       "                          'yanchor': 'bottom'},\n",
       "               'margin': {'b': 30, 'l': 30, 'r': 30, 't': 30},\n",
       "               'template': '...',\n",
       "               'width': 700,\n",
       "               'yaxis': {'tickmode': 'array', 'ticktext': ['false', 'true'], 'tickvals': [0, 1]}}\n",
       "})"
      ]
     },
     "execution_count": 13,
     "metadata": {},
     "output_type": "execute_result"
    }
   ],
   "source": [
    "# Plot signals\n",
    "fig = dmac_entries.vbt.signals.plot(trace_kwargs=dict(name='Entries'))\n",
    "dmac_exits.vbt.signals.plot(trace_kwargs=dict(name='Exits'), fig=fig)"
   ]
  },
  {
   "cell_type": "code",
   "execution_count": 14,
   "id": "c3366e3b-91ac-4c49-bc3e-a99baf954d66",
   "metadata": {
    "is_executing": true
   },
   "outputs": [
    {
     "name": "stdout",
     "output_type": "stream",
     "text": [
      "Start                         2022-10-01 00:00:00+00:00\n",
      "End                           2023-10-30 00:00:00+00:00\n",
      "Period                                395 days 00:00:00\n",
      "Start Value                                       100.0\n",
      "End Value                                    127.133108\n",
      "Total Return [%]                              27.133108\n",
      "Benchmark Return [%]                          78.524257\n",
      "Max Gross Exposure [%]                            100.0\n",
      "Total Fees Paid                                1.463196\n",
      "Max Drawdown [%]                              25.372524\n",
      "Max Drawdown Duration                 199 days 00:00:00\n",
      "Total Trades                                          3\n",
      "Total Closed Trades                                   2\n",
      "Total Open Trades                                     1\n",
      "Open Trade PnL                                17.174294\n",
      "Win Rate [%]                                       50.0\n",
      "Best Trade [%]                                32.885575\n",
      "Worst Trade [%]                              -17.244917\n",
      "Avg Winning Trade [%]                         32.885575\n",
      "Avg Losing Trade [%]                         -17.244917\n",
      "Avg Winning Trade Duration            131 days 00:00:00\n",
      "Avg Losing Trade Duration              50 days 00:00:00\n",
      "Profit Factor                                  1.435934\n",
      "Expectancy                                     4.979407\n",
      "Sharpe Ratio                                   0.834712\n",
      "Calmar Ratio                                   0.978859\n",
      "Omega Ratio                                    1.212605\n",
      "Sortino Ratio                                  1.439684\n",
      "dtype: object\n"
     ]
    }
   ],
   "source": [
    "# Build partfolio, which internally calculates the equity curve\n",
    "\n",
    "# Volume is set to np.inf by default to buy/sell everything\n",
    "# You don't have to pass freq here because our data is already perfectly time-indexed\n",
    "dmac_pf = vbt.Portfolio.from_signals(ohlcv['Close'], dmac_entries, dmac_exits, freq=freq)\n",
    "\n",
    "# Print stats\n",
    "print(dmac_pf.stats())"
   ]
  },
  {
   "cell_type": "code",
   "execution_count": 15,
   "id": "af2a354a-4c9d-471d-b5c5-8bc93754b2a8",
   "metadata": {
    "is_executing": true
   },
   "outputs": [
    {
     "name": "stdout",
     "output_type": "stream",
     "text": [
      "   id  col      size  entry_idx   entry_price  entry_fees  exit_idx  \\\n",
      "0   0    0  0.004812        109  20729.163675    0.249377       240   \n",
      "1   1    0  0.004241        275  31234.090500    0.331181       325   \n",
      "2   2    0  0.003688        384  29743.212600    0.274212       394   \n",
      "\n",
      "   exit_price  exit_fees        pnl    return  direction  status  parent_id  \n",
      "0   27667.059   0.332841  32.803567  0.328856          0       1          0  \n",
      "1   25990.860   0.275586 -22.844752 -0.172449          0       1          1  \n",
      "2   34474.730   0.000000  17.174294  0.156579          0       0          2  \n"
     ]
    },
    {
     "data": {
      "application/vnd.jupyter.widget-view+json": {
       "model_id": "e28fc24799b141e7bcbf858f672799de",
       "version_major": 2,
       "version_minor": 0
      },
      "text/plain": [
       "FigureWidget({\n",
       "    'data': [{'line': {'color': '#1f77b4'},\n",
       "              'name': 'Close',\n",
       "              'showlegend': True,\n",
       "              'type': 'scatter',\n",
       "              'uid': '94085c15-bebf-46d8-9647-3cf3467d540d',\n",
       "              'x': array([datetime.datetime(2022, 10, 1, 0, 0, tzinfo=datetime.timezone.utc),\n",
       "                          datetime.datetime(2022, 10, 2, 0, 0, tzinfo=datetime.timezone.utc),\n",
       "                          datetime.datetime(2022, 10, 3, 0, 0, tzinfo=datetime.timezone.utc), ...,\n",
       "                          datetime.datetime(2023, 10, 28, 0, 0, tzinfo=datetime.timezone.utc),\n",
       "                          datetime.datetime(2023, 10, 29, 0, 0, tzinfo=datetime.timezone.utc),\n",
       "                          datetime.datetime(2023, 10, 30, 0, 0, tzinfo=datetime.timezone.utc)],\n",
       "                         dtype=object),\n",
       "              'y': array([19310.95, 19056.8 , 19629.08, ..., 34081.  , 34525.89, 34474.73])},\n",
       "             {'customdata': array([[0, 0, 0.0048120910715611165, 0.24937655860348684, 'Long'],\n",
       "                                   [1, 1, 0.004241275589800217, 0.33118096401815933, 'Long'],\n",
       "                                   [2, 2, 0.0036877187425712666, 0.2742115064232422, 'Long']], dtype=object),\n",
       "              'hovertemplate': ('Exit Trade Id: %{customdata[0]' ... 'br>Direction: %{customdata[4]}'),\n",
       "              'marker': {'color': '#4285F4',\n",
       "                         'line': {'color': 'rgb(11,84,205)', 'width': 1},\n",
       "                         'size': 7,\n",
       "                         'symbol': 'square'},\n",
       "              'mode': 'markers',\n",
       "              'name': 'Entry',\n",
       "              'type': 'scatter',\n",
       "              'uid': '42d97f76-ebd8-468d-8870-99e0352d037a',\n",
       "              'x': array([datetime.datetime(2023, 1, 18, 0, 0, tzinfo=datetime.timezone.utc),\n",
       "                          datetime.datetime(2023, 7, 3, 0, 0, tzinfo=datetime.timezone.utc),\n",
       "                          datetime.datetime(2023, 10, 20, 0, 0, tzinfo=datetime.timezone.utc)],\n",
       "                         dtype=object),\n",
       "              'y': array([20729.163675, 31234.0905  , 29743.2126  ])},\n",
       "             {'customdata': array([[0, 0, 0.0048120910715611165, 0.33284101897563667, 32.80356657127901,\n",
       "                                    0.328855754877072, 'Long', '131 days 00:00:00']], dtype=object),\n",
       "              'hovertemplate': ('Exit Trade Id: %{customdata[0]' ... '<br>Duration: %{customdata[7]}'),\n",
       "              'marker': {'color': '#37B13F',\n",
       "                         'line': {'color': 'rgb(38,123,44)', 'width': 1},\n",
       "                         'size': 7,\n",
       "                         'symbol': 'square'},\n",
       "              'mode': 'markers',\n",
       "              'name': 'Exit - Profit',\n",
       "              'type': 'scatter',\n",
       "              'uid': '927fd50b-cf3a-4e8b-931f-2159ffba14a7',\n",
       "              'x': array([datetime.datetime(2023, 5, 29, 0, 0, tzinfo=datetime.timezone.utc)],\n",
       "                         dtype=object),\n",
       "              'y': array([27667.059])},\n",
       "             {'customdata': array([[1, 1, 0.004241275589800217, 0.2755860001897872, -22.84475249555393,\n",
       "                                    -0.17244916660051302, 'Long', '50 days 00:00:00']], dtype=object),\n",
       "              'hovertemplate': ('Exit Trade Id: %{customdata[0]' ... '<br>Duration: %{customdata[7]}'),\n",
       "              'marker': {'color': '#EA4335',\n",
       "                         'line': {'color': 'rgb(181,31,18)', 'width': 1},\n",
       "                         'size': 7,\n",
       "                         'symbol': 'square'},\n",
       "              'mode': 'markers',\n",
       "              'name': 'Exit - Loss',\n",
       "              'type': 'scatter',\n",
       "              'uid': '07f2ac16-f4c5-4597-a379-d541ab75a544',\n",
       "              'x': array([datetime.datetime(2023, 8, 22, 0, 0, tzinfo=datetime.timezone.utc)],\n",
       "                         dtype=object),\n",
       "              'y': array([25990.86])},\n",
       "             {'customdata': array([[2, 2, 0.0036877187425712666, 0.0, 17.174293890358854,\n",
       "                                    0.15657889519641235, 'Long', '11 days 00:00:00']], dtype=object),\n",
       "              'hovertemplate': ('Exit Trade Id: %{customdata[0]' ... '<br>Duration: %{customdata[7]}'),\n",
       "              'marker': {'color': '#FFAA00',\n",
       "                         'line': {'color': 'rgb(178,118,0)', 'width': 1},\n",
       "                         'size': 7,\n",
       "                         'symbol': 'square'},\n",
       "              'mode': 'markers',\n",
       "              'name': 'Active',\n",
       "              'type': 'scatter',\n",
       "              'uid': '81a494eb-80c7-4251-854d-cceb9b196d8f',\n",
       "              'x': array([datetime.datetime(2023, 10, 30, 0, 0, tzinfo=datetime.timezone.utc)],\n",
       "                         dtype=object),\n",
       "              'y': array([34474.73])}],\n",
       "    'layout': {'height': 1000,\n",
       "               'legend': {'orientation': 'h',\n",
       "                          'traceorder': 'normal',\n",
       "                          'x': 1,\n",
       "                          'xanchor': 'right',\n",
       "                          'y': 1.02,\n",
       "                          'yanchor': 'bottom'},\n",
       "               'margin': {'b': 30, 'l': 30, 'r': 30, 't': 30},\n",
       "               'shapes': [{'fillcolor': 'green',\n",
       "                           'layer': 'below',\n",
       "                           'line': {'width': 0},\n",
       "                           'opacity': 0.2,\n",
       "                           'type': 'rect',\n",
       "                           'x0': Timestamp('2023-01-18 00:00:00+0000', tz='UTC'),\n",
       "                           'x1': Timestamp('2023-05-29 00:00:00+0000', tz='UTC'),\n",
       "                           'xref': 'x',\n",
       "                           'y0': 20729.163675,\n",
       "                           'y1': 27667.059000000005,\n",
       "                           'yref': 'y'},\n",
       "                          {'fillcolor': 'green',\n",
       "                           'layer': 'below',\n",
       "                           'line': {'width': 0},\n",
       "                           'opacity': 0.2,\n",
       "                           'type': 'rect',\n",
       "                           'x0': Timestamp('2023-10-20 00:00:00+0000', tz='UTC'),\n",
       "                           'x1': Timestamp('2023-10-30 00:00:00+0000', tz='UTC'),\n",
       "                           'xref': 'x',\n",
       "                           'y0': 29743.2126,\n",
       "                           'y1': 34474.73,\n",
       "                           'yref': 'y'},\n",
       "                          {'fillcolor': 'red',\n",
       "                           'layer': 'below',\n",
       "                           'line': {'width': 0},\n",
       "                           'opacity': 0.2,\n",
       "                           'type': 'rect',\n",
       "                           'x0': Timestamp('2023-07-03 00:00:00+0000', tz='UTC'),\n",
       "                           'x1': Timestamp('2023-08-22 00:00:00+0000', tz='UTC'),\n",
       "                           'xref': 'x',\n",
       "                           'y0': 31234.0905,\n",
       "                           'y1': 25990.86,\n",
       "                           'yref': 'y'}],\n",
       "               'template': '...',\n",
       "               'width': 2000}\n",
       "})"
      ]
     },
     "execution_count": 15,
     "metadata": {},
     "output_type": "execute_result"
    }
   ],
   "source": [
    "# Plot trades\n",
    "print(dmac_pf.trades.records)\n",
    "dmac_pf.trades.plot(width=2000, height=1000)"
   ]
  },
  {
   "cell_type": "code",
   "execution_count": 16,
   "id": "7cdb78e3-28c7-488a-af81-eae360417d2e",
   "metadata": {
    "is_executing": true
   },
   "outputs": [],
   "source": [
    "# Now build portfolio for a \"Hold\" strategy\n",
    "# Here we buy once at the beginning and sell at the end\n",
    "hold_entries = pd.Series.vbt.signals.empty_like(dmac_entries)\n",
    "hold_entries.iloc[0] = True\n",
    "hold_exits = pd.Series.vbt.signals.empty_like(hold_entries)\n",
    "hold_exits.iloc[-1] = True\n",
    "hold_pf = vbt.Portfolio.from_signals(ohlcv['Close'], hold_entries, hold_exits)"
   ]
  },
  {
   "cell_type": "code",
   "execution_count": 17,
   "id": "cef0b73e-3e06-4ddf-bb0d-68d61f88237f",
   "metadata": {
    "is_executing": true
   },
   "outputs": [
    {
     "data": {
      "application/vnd.jupyter.widget-view+json": {
       "model_id": "0bccf09a714045d39f5b87a3386300b2",
       "version_major": 2,
       "version_minor": 0
      },
      "text/plain": [
       "FigureWidget({\n",
       "    'data': [{'name': 'Value (DMAC)',\n",
       "              'showlegend': True,\n",
       "              'type': 'scatter',\n",
       "              'uid': '42d42418-b52a-41ec-b36e-99cdbd5f6b2d',\n",
       "              'x': array([datetime.datetime(2022, 10, 1, 0, 0, tzinfo=datetime.timezone.utc),\n",
       "                          datetime.datetime(2022, 10, 2, 0, 0, tzinfo=datetime.timezone.utc),\n",
       "                          datetime.datetime(2022, 10, 3, 0, 0, tzinfo=datetime.timezone.utc), ...,\n",
       "                          datetime.datetime(2023, 10, 28, 0, 0, tzinfo=datetime.timezone.utc),\n",
       "                          datetime.datetime(2023, 10, 29, 0, 0, tzinfo=datetime.timezone.utc),\n",
       "                          datetime.datetime(2023, 10, 30, 0, 0, tzinfo=datetime.timezone.utc)],\n",
       "                         dtype=object),\n",
       "              'y': array([100.        , 100.        , 100.        , ..., 125.68114247,\n",
       "                          127.32177166, 127.13310797])},\n",
       "             {'name': 'Value (Hold)',\n",
       "              'showlegend': True,\n",
       "              'type': 'scatter',\n",
       "              'uid': '72acc501-fbaf-45ee-8bb2-480e2c94a853',\n",
       "              'x': array([datetime.datetime(2022, 10, 1, 0, 0, tzinfo=datetime.timezone.utc),\n",
       "                          datetime.datetime(2022, 10, 2, 0, 0, tzinfo=datetime.timezone.utc),\n",
       "                          datetime.datetime(2022, 10, 3, 0, 0, tzinfo=datetime.timezone.utc), ...,\n",
       "                          datetime.datetime(2023, 10, 28, 0, 0, tzinfo=datetime.timezone.utc),\n",
       "                          datetime.datetime(2023, 10, 29, 0, 0, tzinfo=datetime.timezone.utc),\n",
       "                          datetime.datetime(2023, 10, 30, 0, 0, tzinfo=datetime.timezone.utc)],\n",
       "                         dtype=object),\n",
       "              'y': array([ 99.50186877,  98.19233195, 101.14106982, ..., 175.60623323,\n",
       "                          177.89857961, 176.74790724])}],\n",
       "    'layout': {'height': 350,\n",
       "               'legend': {'orientation': 'h',\n",
       "                          'traceorder': 'normal',\n",
       "                          'x': 1,\n",
       "                          'xanchor': 'right',\n",
       "                          'y': 1.02,\n",
       "                          'yanchor': 'bottom'},\n",
       "               'margin': {'b': 30, 'l': 30, 'r': 30, 't': 30},\n",
       "               'template': '...',\n",
       "               'width': 700}\n",
       "})"
      ]
     },
     "execution_count": 17,
     "metadata": {},
     "output_type": "execute_result"
    }
   ],
   "source": [
    "# Equity\n",
    "fig = dmac_pf.value().vbt.plot(trace_kwargs=dict(name='Value (DMAC)'))\n",
    "hold_pf.value().vbt.plot(trace_kwargs=dict(name='Value (Hold)'), fig=fig)"
   ]
  },
  {
   "cell_type": "code",
   "execution_count": 18,
   "metadata": {},
   "outputs": [],
   "source": [
    "min_window = 2\n",
    "max_window = 100"
   ]
  },
  {
   "cell_type": "code",
   "execution_count": 30,
   "metadata": {},
   "outputs": [
    {
     "data": {
      "application/vnd.jupyter.widget-view+json": {
       "model_id": "74a20c341a984dc4959187a83acbe1f5",
       "version_major": 2,
       "version_minor": 0
      },
      "text/plain": [
       "VBox(children=(HBox(children=(Label(value='Fast and slow window:'), IntRangeSlider(value=(30, 80), layout=Layo…"
      ]
     },
     "execution_count": 30,
     "metadata": {},
     "output_type": "execute_result"
    }
   ],
   "source": [
    "perf_metrics = ['total_return', 'positions.win_rate', 'positions.expectancy', 'max_drawdown']\n",
    "perf_metric_names = ['Total return', 'Win rate', 'Expectancy', 'Max drawdown']\n",
    "\n",
    "windows_slider = widgets.IntRangeSlider(\n",
    "    value=[fast_window, slow_window],\n",
    "    min=min_window,\n",
    "    max=max_window,\n",
    "    step=1,\n",
    "    layout=dict(width='500px'),\n",
    "    continuous_update=True\n",
    ")\n",
    "dmac_fig = None\n",
    "dmac_img = widgets.Image(\n",
    "    format='png',\n",
    "    width=vbt.settings['plotting']['layout']['width'],\n",
    "    height=vbt.settings['plotting']['layout']['height']\n",
    ")\n",
    "metrics_html = widgets.HTML()\n",
    "\n",
    "def on_value_change(value):\n",
    "    global dmac_fig\n",
    "    \n",
    "    # Calculate portfolio\n",
    "    fast_window, slow_window = value['new']\n",
    "    fast_ma = vbt.MA.run(binance_data['Open'], fast_window)\n",
    "    slow_ma = vbt.MA.run(binance_data['Open'], slow_window)\n",
    "    fast_ma = fast_ma[wobuf_mask]\n",
    "    slow_ma = slow_ma[wobuf_mask]\n",
    "    dmac_entries = fast_ma.ma_crossed_above(slow_ma)\n",
    "    dmac_exits = fast_ma.ma_crossed_below(slow_ma)\n",
    "    dmac_pf = vbt.Portfolio.from_signals(ohlcv['Close'], dmac_entries, dmac_exits)\n",
    "\n",
    "    # Update figure\n",
    "    if dmac_fig is None:\n",
    "        dmac_fig = ohlcv['Open'].vbt.plot(trace_kwargs=dict(name='Price'))\n",
    "        fast_ma.ma.vbt.plot(trace_kwargs=dict(name='Fast MA'), fig=dmac_fig)\n",
    "        slow_ma.ma.vbt.plot(trace_kwargs=dict(name='Slow MA'), fig=dmac_fig)\n",
    "        dmac_entries.vbt.signals.plot_as_entry_markers(ohlcv['Open'], fig=dmac_fig)\n",
    "        dmac_exits.vbt.signals.plot_as_exit_markers(ohlcv['Open'], fig=dmac_fig)\n",
    "    else:\n",
    "        with dmac_fig.batch_update():\n",
    "            dmac_fig.data[1].y = fast_ma.ma\n",
    "            dmac_fig.data[2].y = slow_ma.ma\n",
    "            dmac_fig.data[3].x = ohlcv['Open'].index[dmac_entries]\n",
    "            dmac_fig.data[3].y = ohlcv['Open'][dmac_entries]\n",
    "            dmac_fig.data[4].x = ohlcv['Open'].index[dmac_exits]\n",
    "            dmac_fig.data[4].y = ohlcv['Open'][dmac_exits]\n",
    "    dmac_img.value = dmac_fig.to_image(format=\"png\")\n",
    "    \n",
    "    # Update metrics table\n",
    "    sr = pd.Series([dmac_pf.deep_getattr(m) for m in perf_metrics], \n",
    "                   index=perf_metric_names, name='Performance')\n",
    "    metrics_html.value = sr.to_frame().style.set_properties(**{'text-align': 'right'}).to_html()\n",
    "    \n",
    "windows_slider.observe(on_value_change, names='value')\n",
    "on_value_change({'new': windows_slider.value})\n",
    "\n",
    "dashboard = widgets.VBox([\n",
    "    widgets.HBox([widgets.Label('Fast and slow window:'), windows_slider]),\n",
    "    dmac_img,\n",
    "    metrics_html\n",
    "])\n",
    "dashboard"
   ]
  },
  {
   "cell_type": "code",
   "execution_count": 31,
   "metadata": {},
   "outputs": [],
   "source": [
    "dashboard.close()"
   ]
  },
  {
   "cell_type": "code",
   "execution_count": 32,
   "metadata": {},
   "outputs": [
    {
     "data": {
      "text/plain": [
       "153208"
      ]
     },
     "execution_count": 32,
     "metadata": {},
     "output_type": "execute_result"
    }
   ],
   "source": [
    "gc.collect()"
   ]
  },
  {
   "cell_type": "code",
   "execution_count": 22,
   "metadata": {},
   "outputs": [
    {
     "name": "stdout",
     "output_type": "stream",
     "text": [
      "(495, 4851)\n",
      "(495, 4851)\n",
      "Index([ 2,  2,  2,  2,  2,  2,  2,  2,  2,  2,\n",
      "       ...\n",
      "       96, 96, 96, 96, 97, 97, 97, 98, 98, 99],\n",
      "      dtype='int64', name='fast_ma_window', length=4851)\n",
      "Index([  3,   4,   5,   6,   7,   8,   9,  10,  11,  12,\n",
      "       ...\n",
      "        97,  98,  99, 100,  98,  99, 100,  99, 100, 100],\n",
      "      dtype='int64', name='slow_ma_window', length=4851)\n"
     ]
    }
   ],
   "source": [
    "# Pre-calculate running windows on data with time buffer\n",
    "fast_ma, slow_ma = vbt.MA.run_combs(\n",
    "    binance_data['Open'], np.arange(min_window, max_window+1), \n",
    "    r=2, short_names=['fast_ma', 'slow_ma'])\n",
    "\n",
    "print(fast_ma.ma.shape)\n",
    "print(slow_ma.ma.shape)\n",
    "print(fast_ma.ma.columns)\n",
    "print(slow_ma.ma.columns)"
   ]
  },
  {
   "cell_type": "code",
   "execution_count": 23,
   "metadata": {},
   "outputs": [
    {
     "name": "stdout",
     "output_type": "stream",
     "text": [
      "(395, 4851)\n",
      "(395, 4851)\n"
     ]
    }
   ],
   "source": [
    "# Remove time buffer\n",
    "fast_ma = fast_ma[wobuf_mask]\n",
    "slow_ma = slow_ma[wobuf_mask]\n",
    "\n",
    "print(fast_ma.ma.shape)\n",
    "print(slow_ma.ma.shape)"
   ]
  },
  {
   "cell_type": "code",
   "execution_count": 24,
   "metadata": {},
   "outputs": [
    {
     "name": "stdout",
     "output_type": "stream",
     "text": [
      "MultiIndex([( 2,   3),\n",
      "            ( 2,   4),\n",
      "            ( 2,   5),\n",
      "            ( 2,   6),\n",
      "            ( 2,   7),\n",
      "            ( 2,   8),\n",
      "            ( 2,   9),\n",
      "            ( 2,  10),\n",
      "            ( 2,  11),\n",
      "            ( 2,  12),\n",
      "            ...\n",
      "            (96,  97),\n",
      "            (96,  98),\n",
      "            (96,  99),\n",
      "            (96, 100),\n",
      "            (97,  98),\n",
      "            (97,  99),\n",
      "            (97, 100),\n",
      "            (98,  99),\n",
      "            (98, 100),\n",
      "            (99, 100)],\n",
      "           names=['fast_ma_window', 'slow_ma_window'], length=4851)\n"
     ]
    }
   ],
   "source": [
    "# We perform the same steps, but now we have 4851 columns instead of 1\n",
    "# Each column corresponds to a pair of fast and slow windows\n",
    "# Generate crossover signals\n",
    "dmac_entries = fast_ma.ma_crossed_above(slow_ma)\n",
    "dmac_exits = fast_ma.ma_crossed_below(slow_ma)\n",
    "\n",
    "print(dmac_entries.columns) # the same for dmac_exits"
   ]
  },
  {
   "cell_type": "code",
   "execution_count": 25,
   "metadata": {},
   "outputs": [],
   "source": [
    "# Build portfolio\n",
    "dmac_pf = vbt.Portfolio.from_signals(ohlcv['Close'], dmac_entries, dmac_exits)"
   ]
  },
  {
   "cell_type": "code",
   "execution_count": 26,
   "metadata": {},
   "outputs": [
    {
     "name": "stdout",
     "output_type": "stream",
     "text": [
      "(4851,)\n",
      "MultiIndex([( 2,   3),\n",
      "            ( 2,   4),\n",
      "            ( 2,   5),\n",
      "            ( 2,   6),\n",
      "            ( 2,   7),\n",
      "            ( 2,   8),\n",
      "            ( 2,   9),\n",
      "            ( 2,  10),\n",
      "            ( 2,  11),\n",
      "            ( 2,  12),\n",
      "            ...\n",
      "            (96,  97),\n",
      "            (96,  98),\n",
      "            (96,  99),\n",
      "            (96, 100),\n",
      "            (97,  98),\n",
      "            (97,  99),\n",
      "            (97, 100),\n",
      "            (98,  99),\n",
      "            (98, 100),\n",
      "            (99, 100)],\n",
      "           names=['fast_ma_window', 'slow_ma_window'], length=4851)\n"
     ]
    }
   ],
   "source": [
    "# Calculate performance of each window combination\n",
    "dmac_perf = dmac_pf.deep_getattr('total_return')\n",
    "\n",
    "print(dmac_perf.shape)\n",
    "print(dmac_perf.index)"
   ]
  },
  {
   "cell_type": "code",
   "execution_count": 27,
   "metadata": {},
   "outputs": [
    {
     "data": {
      "text/plain": [
       "(49, 55)"
      ]
     },
     "execution_count": 27,
     "metadata": {},
     "output_type": "execute_result"
    }
   ],
   "source": [
    "dmac_perf.idxmax() # your optimal window combination"
   ]
  },
  {
   "cell_type": "code",
   "execution_count": 28,
   "metadata": {},
   "outputs": [
    {
     "name": "stdout",
     "output_type": "stream",
     "text": [
      "(99, 99)\n"
     ]
    }
   ],
   "source": [
    "# Convert this array into a matrix of shape (99, 99): 99 fast windows x 99 slow windows\n",
    "dmac_perf_matrix = dmac_perf.vbt.unstack_to_df(symmetric=True, \n",
    "    index_levels='fast_ma_window', column_levels='slow_ma_window')\n",
    "\n",
    "print(dmac_perf_matrix.shape)"
   ]
  },
  {
   "cell_type": "code",
   "execution_count": 29,
   "metadata": {},
   "outputs": [
    {
     "name": "stderr",
     "output_type": "stream",
     "text": [
      "/home/figa/.local/lib/python3.10/site-packages/jupyter_client/session.py:721: UserWarning:\n",
      "\n",
      "Message serialization failed with:\n",
      "Out of range float values are not JSON compliant\n",
      "Supporting this message is deprecated in jupyter-client 7, please make sure your message is JSON-compliant\n",
      "\n"
     ]
    },
    {
     "data": {
      "application/vnd.jupyter.widget-view+json": {
       "model_id": "e9868a0f22e340a29a7c30134bc7c7dc",
       "version_major": 2,
       "version_minor": 0
      },
      "text/plain": [
       "FigureWidget({\n",
       "    'data': [{'colorscale': [[0.0, '#0d0887'], [0.1111111111111111, '#46039f'],\n",
       "                             [0.2222222222222222, '#7201a8'], [0.3333333333333333,\n",
       "                             '#9c179e'], [0.4444444444444444, '#bd3786'],\n",
       "                             [0.5555555555555556, '#d8576b'], [0.6666666666666666,\n",
       "                             '#ed7953'], [0.7777777777777778, '#fb9f3a'],\n",
       "                             [0.8888888888888888, '#fdca26'], [1.0, '#f0f921']],\n",
       "              'hoverongaps': False,\n",
       "              'type': 'heatmap',\n",
       "              'uid': 'a6db4788-4433-42f3-a140-85534cf9a0f5',\n",
       "              'x': array([  2,   3,   4,   5,   6,   7,   8,   9,  10,  11,  12,  13,  14,  15,\n",
       "                           16,  17,  18,  19,  20,  21,  22,  23,  24,  25,  26,  27,  28,  29,\n",
       "                           30,  31,  32,  33,  34,  35,  36,  37,  38,  39,  40,  41,  42,  43,\n",
       "                           44,  45,  46,  47,  48,  49,  50,  51,  52,  53,  54,  55,  56,  57,\n",
       "                           58,  59,  60,  61,  62,  63,  64,  65,  66,  67,  68,  69,  70,  71,\n",
       "                           72,  73,  74,  75,  76,  77,  78,  79,  80,  81,  82,  83,  84,  85,\n",
       "                           86,  87,  88,  89,  90,  91,  92,  93,  94,  95,  96,  97,  98,  99,\n",
       "                          100]),\n",
       "              'y': array([  2,   3,   4,   5,   6,   7,   8,   9,  10,  11,  12,  13,  14,  15,\n",
       "                           16,  17,  18,  19,  20,  21,  22,  23,  24,  25,  26,  27,  28,  29,\n",
       "                           30,  31,  32,  33,  34,  35,  36,  37,  38,  39,  40,  41,  42,  43,\n",
       "                           44,  45,  46,  47,  48,  49,  50,  51,  52,  53,  54,  55,  56,  57,\n",
       "                           58,  59,  60,  61,  62,  63,  64,  65,  66,  67,  68,  69,  70,  71,\n",
       "                           72,  73,  74,  75,  76,  77,  78,  79,  80,  81,  82,  83,  84,  85,\n",
       "                           86,  87,  88,  89,  90,  91,  92,  93,  94,  95,  96,  97,  98,  99,\n",
       "                          100]),\n",
       "              'z': array([[        nan, -0.38153919, -0.04650482, ..., -0.17400807, -0.15844919,\n",
       "                           -0.07748251],\n",
       "                          [-0.38153919,         nan, -0.21766982, ..., -0.0818609 , -0.0818609 ,\n",
       "                            0.0222368 ],\n",
       "                          [-0.04650482, -0.21766982,         nan, ..., -0.04109196, -0.04109196,\n",
       "                            0.00214059],\n",
       "                          ...,\n",
       "                          [-0.17400807, -0.0818609 , -0.04109196, ...,         nan, -0.04566662,\n",
       "                            0.01790009],\n",
       "                          [-0.15844919, -0.0818609 , -0.04109196, ..., -0.04566662,         nan,\n",
       "                           -0.00046716],\n",
       "                          [-0.07748251,  0.0222368 ,  0.00214059, ...,  0.01790009, -0.00046716,\n",
       "                                   nan]])}],\n",
       "    'layout': {'height': 455,\n",
       "               'legend': {'orientation': 'h',\n",
       "                          'traceorder': 'normal',\n",
       "                          'x': 1,\n",
       "                          'xanchor': 'right',\n",
       "                          'y': 1.02,\n",
       "                          'yanchor': 'bottom'},\n",
       "               'margin': {'b': 30, 'l': 30, 'r': 30, 't': 30},\n",
       "               'template': '...',\n",
       "               'width': 605,\n",
       "               'xaxis': {'title': {'text': 'Slow window'}},\n",
       "               'yaxis': {'title': {'text': 'Fast window'}}}\n",
       "})"
      ]
     },
     "execution_count": 29,
     "metadata": {},
     "output_type": "execute_result"
    }
   ],
   "source": [
    "dmac_perf_matrix.vbt.heatmap(\n",
    "    xaxis_title='Slow window', \n",
    "    yaxis_title='Fast window')"
   ]
  }
 ],
 "metadata": {
  "kernelspec": {
   "display_name": "Python 3 (ipykernel)",
   "language": "python",
   "name": "python3"
  },
  "language_info": {
   "codemirror_mode": {
    "name": "ipython",
    "version": 3
   },
   "file_extension": ".py",
   "mimetype": "text/x-python",
   "name": "python",
   "nbconvert_exporter": "python",
   "pygments_lexer": "ipython3",
   "version": "3.10.12"
  }
 },
 "nbformat": 4,
 "nbformat_minor": 5
}
