{
 "cells": [
  {
   "cell_type": "code",
   "execution_count": null,
   "id": "d93676a5-1bac-4a2f-9630-af6bca7087b9",
   "metadata": {
    "ExecuteTime": {
     "end_time": "2023-11-28T21:10:38.831449042Z",
     "start_time": "2023-11-28T21:10:35.804776Z"
    }
   },
   "outputs": [],
   "source": [
    "import vectorbt as vbt"
   ]
  },
  {
   "cell_type": "code",
   "execution_count": null,
   "id": "d6b38e43-98ed-4d39-a071-3a1a214ae2d5",
   "metadata": {
    "ExecuteTime": {
     "end_time": "2023-11-28T21:10:45.516736619Z",
     "start_time": "2023-11-28T21:10:45.505972086Z"
    }
   },
   "outputs": [],
   "source": [
    "import numpy as np\n",
    "import pandas as pd\n",
    "from datetime import datetime, timedelta\n",
    "import pytz\n",
    "from dateutil.parser import parse\n",
    "import ipywidgets as widgets\n",
    "from copy import deepcopy\n",
    "from tqdm import tqdm\n",
    "import imageio\n",
    "from IPython import display\n",
    "import plotly\n",
    "import plotly.graph_objects as go\n",
    "import itertools\n",
    "import dateparser\n",
    "import gc\n",
    "import kaleido"
   ]
  },
  {
   "cell_type": "code",
   "execution_count": null,
   "id": "3f00a3d4-400a-49b5-8e16-3d6e449fa5db",
   "metadata": {
    "ExecuteTime": {
     "end_time": "2023-11-28T21:10:47.603555302Z",
     "start_time": "2023-11-28T21:10:47.595585472Z"
    }
   },
   "outputs": [],
   "source": [
    "#Parameters\n",
    "seed = 42\n",
    "symbol = 'BTCUSDT'\n",
    "metric = 'total_return'\n",
    "\n",
    "start_date = datetime(2021, 10, 1, tzinfo=pytz.utc)  # time period for analysis, must be timezone-aware\n",
    "end_date = datetime(2023, 10, 31, tzinfo=pytz.utc)\n",
    "time_buffer = timedelta(days=100)  # buffer before to pre-calculate SMA/EMA, best to set to max window\n",
    "freq = '1d'\n",
    "\n",
    "vbt.settings.portfolio['init_cash'] = 100.  # 100$\n",
    "vbt.settings.portfolio['fees'] = 0.0025  # 0.25%\n",
    "vbt.settings.portfolio['slippage'] = 0.0025  # 0.25%\n",
    "\n"
   ]
  },
  {
   "cell_type": "code",
   "execution_count": null,
   "id": "0a94eef7-24da-4830-91a8-45d3e6800ba5",
   "metadata": {
    "ExecuteTime": {
     "end_time": "2023-11-28T21:12:01.321705363Z",
     "start_time": "2023-11-28T21:10:49.050898960Z"
    }
   },
   "outputs": [],
   "source": [
    "cols = ['Open', 'High', 'Low', 'Close', 'Volume']\n",
    "binance_data = vbt.BinanceData.download(\n",
    "    symbol,\n",
    "    start=start_date-time_buffer,\n",
    "    end=end_date,\n",
    "    interval=freq).get(cols)\n",
    "\n",
    "binance_data = binance_data.astype(np.float64)\n",
    "    \n",
    "print(binance_data.shape)\n",
    "print(binance_data.columns)"
   ]
  },
  {
   "cell_type": "code",
   "execution_count": null,
   "id": "25802483-29c1-4f41-be32-7f2ea20c6a27",
   "metadata": {
    "ExecuteTime": {
     "end_time": "2023-11-28T21:12:05.312911825Z",
     "start_time": "2023-11-28T21:12:05.300362398Z"
    }
   },
   "outputs": [],
   "source": [
    "# Create a copy of data without time buffer\n",
    "wobuf_mask = (binance_data.index >= start_date) & (binance_data.index <= end_date) # mask without buffer\n",
    "\n",
    "ohlcv = binance_data.loc[wobuf_mask, :]\n",
    "\n",
    "print(ohlcv.shape)"
   ]
  },
  {
   "cell_type": "code",
   "execution_count": null,
   "id": "45390be5-40f7-47d9-9d01-4e6c1a9f67e3",
   "metadata": {
    "ExecuteTime": {
     "end_time": "2023-11-28T21:13:28.821213837Z",
     "start_time": "2023-11-28T21:13:27.348601398Z"
    }
   },
   "outputs": [],
   "source": [
    "# Plot the OHLC data\n",
    "binance_data.vbt.ohlcv.plot(width=2000, height=1000)"
   ]
  },
  {
   "cell_type": "code",
   "execution_count": null,
   "id": "46ae935d-4969-42fd-aff7-646b8114d55c",
   "metadata": {
    "is_executing": true
   },
   "outputs": [],
   "source": [
    "fast_window = 30\n",
    "slow_window = 80"
   ]
  },
  {
   "cell_type": "code",
   "execution_count": null,
   "id": "da30a87b-1970-428f-8b0d-45cb41164aff",
   "metadata": {
    "is_executing": true
   },
   "outputs": [],
   "source": [
    "# Pre-calculate running windows on data with time buffer\n",
    "fast_ma = vbt.MA.run(binance_data['Open'], fast_window)\n",
    "slow_ma = vbt.MA.run(binance_data['Open'], slow_window)\n",
    "\n",
    "print(fast_ma.ma.shape)\n",
    "print(slow_ma.ma.shape)\n",
    "\n"
   ]
  },
  {
   "cell_type": "code",
   "execution_count": null,
   "id": "90dd5e27-a4dc-4fff-ab45-56e957ab80d3",
   "metadata": {
    "is_executing": true
   },
   "outputs": [],
   "source": [
    "# Remove time buffer\n",
    "fast_ma = fast_ma[wobuf_mask]\n",
    "slow_ma = slow_ma[wobuf_mask]\n",
    "\n",
    "# there should be no nans after removing time buffer\n",
    "assert(~fast_ma.ma.isnull().any()) \n",
    "assert(~slow_ma.ma.isnull().any())\n",
    "\n",
    "print(fast_ma.ma.shape)\n",
    "print(slow_ma.ma.shape)"
   ]
  },
  {
   "cell_type": "code",
   "execution_count": null,
   "id": "bea14887-ef7e-449c-b8fa-b1cc4fd9227c",
   "metadata": {
    "is_executing": true
   },
   "outputs": [],
   "source": [
    "# Generate crossover signals\n",
    "dmac_entries = fast_ma.ma_crossed_above(slow_ma)\n",
    "dmac_exits = fast_ma.ma_crossed_below(slow_ma)"
   ]
  },
  {
   "cell_type": "code",
   "execution_count": null,
   "id": "a20f640f-06d8-478b-8ea0-d814022877a8",
   "metadata": {
    "is_executing": true
   },
   "outputs": [],
   "source": [
    "fig = ohlcv['Open'].vbt.plot(trace_kwargs=dict(name='Price'))\n",
    "fig = fast_ma.ma.vbt.plot(trace_kwargs=dict(name='Fast MA'), fig=fig)\n",
    "fig = slow_ma.ma.vbt.plot(trace_kwargs=dict(name='Slow MA'), fig=fig)\n",
    "fig = dmac_entries.vbt.signals.plot_as_entry_markers(ohlcv['Open'], fig=fig)\n",
    "fig = dmac_exits.vbt.signals.plot_as_exit_markers(ohlcv['Open'], fig=fig)\n",
    "\n",
    "fig.show_svg(width=2000, height=1000)"
   ]
  },
  {
   "cell_type": "code",
   "execution_count": null,
   "id": "9e5dec0a-5e65-4081-a925-9c05aca7dce5",
   "metadata": {
    "is_executing": true
   },
   "outputs": [],
   "source": [
    "# Signal stats\n",
    "print(dmac_entries.vbt.signals.stats(settings=dict(other=dmac_exits)))"
   ]
  },
  {
   "cell_type": "code",
   "execution_count": null,
   "id": "375f1b26-4732-41fc-9f38-c55d1f634d61",
   "metadata": {
    "is_executing": true
   },
   "outputs": [],
   "source": [
    "# Plot signals\n",
    "fig = dmac_entries.vbt.signals.plot(trace_kwargs=dict(name='Entries'))\n",
    "dmac_exits.vbt.signals.plot(trace_kwargs=dict(name='Exits'), fig=fig)"
   ]
  },
  {
   "cell_type": "code",
   "execution_count": null,
   "id": "c3366e3b-91ac-4c49-bc3e-a99baf954d66",
   "metadata": {
    "is_executing": true
   },
   "outputs": [],
   "source": [
    "# Build partfolio, which internally calculates the equity curve\n",
    "\n",
    "# Volume is set to np.inf by default to buy/sell everything\n",
    "# You don't have to pass freq here because our data is already perfectly time-indexed\n",
    "dmac_pf = vbt.Portfolio.from_signals(ohlcv['Close'], dmac_entries, dmac_exits, freq=freq)\n",
    "\n",
    "# Print stats\n",
    "print(dmac_pf.stats())"
   ]
  },
  {
   "cell_type": "code",
   "execution_count": null,
   "id": "af2a354a-4c9d-471d-b5c5-8bc93754b2a8",
   "metadata": {
    "is_executing": true
   },
   "outputs": [],
   "source": [
    "# Plot trades\n",
    "print(dmac_pf.trades.records)\n",
    "dmac_pf.trades.plot(width=2000, height=1000)"
   ]
  },
  {
   "cell_type": "code",
   "execution_count": null,
   "id": "7cdb78e3-28c7-488a-af81-eae360417d2e",
   "metadata": {
    "is_executing": true
   },
   "outputs": [],
   "source": [
    "# Now build portfolio for a \"Hold\" strategy\n",
    "# Here we buy once at the beginning and sell at the end\n",
    "hold_entries = pd.Series.vbt.signals.empty_like(dmac_entries)\n",
    "hold_entries.iloc[0] = True\n",
    "hold_exits = pd.Series.vbt.signals.empty_like(hold_entries)\n",
    "hold_exits.iloc[-1] = True\n",
    "hold_pf = vbt.Portfolio.from_signals(ohlcv['Close'], hold_entries, hold_exits)"
   ]
  },
  {
   "cell_type": "code",
   "execution_count": null,
   "id": "cef0b73e-3e06-4ddf-bb0d-68d61f88237f",
   "metadata": {
    "is_executing": true
   },
   "outputs": [],
   "source": [
    "# Equity\n",
    "fig = dmac_pf.value().vbt.plot(trace_kwargs=dict(name='Value (DMAC)'))\n",
    "hold_pf.value().vbt.plot(trace_kwargs=dict(name='Value (Hold)'), fig=fig)"
   ]
  },
  {
   "cell_type": "code",
   "execution_count": null,
   "metadata": {},
   "outputs": [],
   "source": [
    "min_window = 2\n",
    "max_window = 100"
   ]
  },
  {
   "cell_type": "code",
   "execution_count": null,
   "metadata": {},
   "outputs": [],
   "source": [
    "perf_metrics = ['total_return', 'positions.win_rate', 'positions.expectancy', 'max_drawdown']\n",
    "perf_metric_names = ['Total return', 'Win rate', 'Expectancy', 'Max drawdown']\n",
    "\n",
    "windows_slider = widgets.IntRangeSlider(\n",
    "    value=[fast_window, slow_window],\n",
    "    min=min_window,\n",
    "    max=max_window,\n",
    "    step=1,\n",
    "    layout=dict(width='500px'),\n",
    "    continuous_update=True\n",
    ")\n",
    "dmac_fig = None\n",
    "dmac_img = widgets.Image(\n",
    "    format='png',\n",
    "    width=vbt.settings['plotting']['layout']['width'],\n",
    "    height=vbt.settings['plotting']['layout']['height']\n",
    ")\n",
    "metrics_html = widgets.HTML()\n",
    "\n",
    "def on_value_change(value):\n",
    "    global dmac_fig\n",
    "    \n",
    "    # Calculate portfolio\n",
    "    fast_window, slow_window = value['new']\n",
    "    fast_ma = vbt.MA.run(binance_data['Open'], fast_window)\n",
    "    slow_ma = vbt.MA.run(binance_data['Open'], slow_window)\n",
    "    fast_ma = fast_ma[wobuf_mask]\n",
    "    slow_ma = slow_ma[wobuf_mask]\n",
    "    dmac_entries = fast_ma.ma_crossed_above(slow_ma)\n",
    "    dmac_exits = fast_ma.ma_crossed_below(slow_ma)\n",
    "    dmac_pf = vbt.Portfolio.from_signals(ohlcv['Close'], dmac_entries, dmac_exits)\n",
    "\n",
    "    # Update figure\n",
    "    if dmac_fig is None:\n",
    "        dmac_fig = ohlcv['Open'].vbt.plot(trace_kwargs=dict(name='Price'))\n",
    "        fast_ma.ma.vbt.plot(trace_kwargs=dict(name='Fast MA'), fig=dmac_fig)\n",
    "        slow_ma.ma.vbt.plot(trace_kwargs=dict(name='Slow MA'), fig=dmac_fig)\n",
    "        dmac_entries.vbt.signals.plot_as_entry_markers(ohlcv['Open'], fig=dmac_fig)\n",
    "        dmac_exits.vbt.signals.plot_as_exit_markers(ohlcv['Open'], fig=dmac_fig)\n",
    "    else:\n",
    "        with dmac_fig.batch_update():\n",
    "            dmac_fig.data[1].y = fast_ma.ma\n",
    "            dmac_fig.data[2].y = slow_ma.ma\n",
    "            dmac_fig.data[3].x = ohlcv['Open'].index[dmac_entries]\n",
    "            dmac_fig.data[3].y = ohlcv['Open'][dmac_entries]\n",
    "            dmac_fig.data[4].x = ohlcv['Open'].index[dmac_exits]\n",
    "            dmac_fig.data[4].y = ohlcv['Open'][dmac_exits]\n",
    "    dmac_img.value = dmac_fig.to_image(format=\"png\")\n",
    "    \n",
    "    # Update metrics table\n",
    "    sr = pd.Series([dmac_pf.deep_getattr(m) for m in perf_metrics], \n",
    "                   index=perf_metric_names, name='Performance')\n",
    "    metrics_html.value = sr.to_frame().style.set_properties(**{'text-align': 'right'}).to_html()\n",
    "    \n",
    "windows_slider.observe(on_value_change, names='value')\n",
    "on_value_change({'new': windows_slider.value})\n",
    "\n",
    "dashboard = widgets.VBox([\n",
    "    widgets.HBox([widgets.Label('Fast and slow window:'), windows_slider]),\n",
    "    dmac_img,\n",
    "    metrics_html\n",
    "])\n",
    "dashboard"
   ]
  },
  {
   "cell_type": "code",
   "execution_count": null,
   "metadata": {},
   "outputs": [],
   "source": [
    "dashboard.close()"
   ]
  },
  {
   "cell_type": "code",
   "execution_count": null,
   "metadata": {},
   "outputs": [],
   "source": [
    "gc.collect()"
   ]
  },
  {
   "cell_type": "code",
   "execution_count": null,
   "metadata": {},
   "outputs": [],
   "source": [
    "# Pre-calculate running windows on data with time buffer\n",
    "fast_ma, slow_ma = vbt.MA.run_combs(\n",
    "    binance_data['Open'], np.arange(min_window, max_window+1), \n",
    "    r=2, short_names=['fast_ma', 'slow_ma'])\n",
    "\n",
    "print(fast_ma.ma.shape)\n",
    "print(slow_ma.ma.shape)\n",
    "print(fast_ma.ma.columns)\n",
    "print(slow_ma.ma.columns)"
   ]
  },
  {
   "cell_type": "code",
   "execution_count": null,
   "metadata": {},
   "outputs": [],
   "source": [
    "# Remove time buffer\n",
    "fast_ma = fast_ma[wobuf_mask]\n",
    "slow_ma = slow_ma[wobuf_mask]\n",
    "\n",
    "print(fast_ma.ma.shape)\n",
    "print(slow_ma.ma.shape)"
   ]
  },
  {
   "cell_type": "code",
   "execution_count": null,
   "metadata": {},
   "outputs": [],
   "source": [
    "# We perform the same steps, but now we have 4851 columns instead of 1\n",
    "# Each column corresponds to a pair of fast and slow windows\n",
    "# Generate crossover signals\n",
    "dmac_entries = fast_ma.ma_crossed_above(slow_ma)\n",
    "dmac_exits = fast_ma.ma_crossed_below(slow_ma)\n",
    "\n",
    "print(dmac_entries.columns) # the same for dmac_exits"
   ]
  },
  {
   "cell_type": "code",
   "execution_count": null,
   "metadata": {},
   "outputs": [],
   "source": [
    "# Build portfolio\n",
    "dmac_pf = vbt.Portfolio.from_signals(ohlcv['Close'], dmac_entries, dmac_exits)"
   ]
  },
  {
   "cell_type": "code",
   "execution_count": null,
   "metadata": {},
   "outputs": [],
   "source": [
    "# Calculate performance of each window combination\n",
    "dmac_perf = dmac_pf.deep_getattr('total_return')\n",
    "\n",
    "print(dmac_perf.shape)\n",
    "print(dmac_perf.index)"
   ]
  },
  {
   "cell_type": "code",
   "execution_count": null,
   "metadata": {},
   "outputs": [],
   "source": [
    "dmac_perf.idxmax() # your optimal window combination"
   ]
  },
  {
   "cell_type": "code",
   "execution_count": null,
   "metadata": {},
   "outputs": [],
   "source": [
    "# Convert this array into a matrix of shape (99, 99): 99 fast windows x 99 slow windows\n",
    "dmac_perf_matrix = dmac_perf.vbt.unstack_to_df(symmetric=True, \n",
    "    index_levels='fast_ma_window', column_levels='slow_ma_window')\n",
    "\n",
    "print(dmac_perf_matrix.shape)"
   ]
  },
  {
   "cell_type": "code",
   "execution_count": null,
   "metadata": {},
   "outputs": [],
   "source": [
    "dmac_perf_matrix.vbt.heatmap(\n",
    "    xaxis_title='Slow window', \n",
    "    yaxis_title='Fast window')"
   ]
  },
  {
   "cell_type": "code",
   "execution_count": null,
   "metadata": {},
   "outputs": [],
   "source": [
    "def dmac_pf_from_date_range(from_date, to_date):\n",
    "    # Portfolio from MA crossover, filtered by time range\n",
    "    range_mask = (ohlcv.index >= from_date) & (ohlcv.index <= to_date)\n",
    "    range_fast_ma = fast_ma[range_mask] # use our variables defined above\n",
    "    range_slow_ma = slow_ma[range_mask]\n",
    "    dmac_entries = range_fast_ma.ma_crossed_above(range_slow_ma)\n",
    "    dmac_exits = range_fast_ma.ma_crossed_below(range_slow_ma)\n",
    "    dmac_pf = vbt.Portfolio.from_signals(ohlcv.loc[range_mask, 'Close'], dmac_entries, dmac_exits)\n",
    "    return dmac_pf"
   ]
  },
  {
   "cell_type": "code",
   "execution_count": null,
   "metadata": {},
   "outputs": [],
   "source": [
    "def rand_pf_from_date_range(from_date, to_date):\n",
    "    # Portfolio from random strategy, filtered by time range\n",
    "    range_mask = (ohlcv.index >= from_date) & (ohlcv.index <= to_date)\n",
    "    range_fast_ma = fast_ma[range_mask] # use our variables defined above\n",
    "    range_slow_ma = slow_ma[range_mask]\n",
    "    dmac_entries = range_fast_ma.ma_crossed_above(range_slow_ma)\n",
    "    dmac_exits = range_fast_ma.ma_crossed_below(range_slow_ma)\n",
    "    rand_entries = dmac_entries.vbt.signals.shuffle(seed=seed) # same number of signals as in dmac\n",
    "    rand_exits = rand_entries.vbt.signals.generate_random_exits(seed=seed)\n",
    "    rand_pf = vbt.Portfolio.from_signals(ohlcv.loc[range_mask, 'Close'], rand_entries, rand_exits)\n",
    "    return rand_pf"
   ]
  },
  {
   "cell_type": "code",
   "execution_count": null,
   "metadata": {},
   "outputs": [],
   "source": [
    "def hold_pf_from_date_range(from_date, to_date):\n",
    "    # Portfolio from holding strategy, filtered by time range\n",
    "    range_mask = (ohlcv.index >= from_date) & (ohlcv.index <= to_date)\n",
    "    hold_entries = pd.Series.vbt.signals.empty(range_mask.sum(), index=ohlcv[range_mask].index)\n",
    "    hold_entries.iloc[0] = True\n",
    "    hold_exits = pd.Series.vbt.signals.empty_like(hold_entries)\n",
    "    hold_exits.iloc[-1] = True\n",
    "    hold_pf = vbt.Portfolio.from_signals(ohlcv.loc[range_mask, 'Close'], hold_entries, hold_exits)\n",
    "    return hold_pf"
   ]
  },
  {
   "cell_type": "code",
   "execution_count": null,
   "metadata": {},
   "outputs": [],
   "source": [
    "# TimeSeries (OHLC)\n",
    "ts_fig = ohlcv.vbt.ohlcv.plot(\n",
    "    title=symbol, \n",
    "    show_volume=False,\n",
    "    annotations=[dict(\n",
    "        align='left',\n",
    "        showarrow=False,\n",
    "        xref='paper',\n",
    "        yref='paper',\n",
    "        x=0.5,\n",
    "        y=0.9,\n",
    "        font=dict(size=14),\n",
    "        bordercolor='black',\n",
    "        borderwidth=1,\n",
    "        bgcolor='white'\n",
    "    )],\n",
    "    width=700, \n",
    "    height=250)\n",
    "\n",
    "# Histogram (DMAC vs Random)\n",
    "histogram = vbt.plotting.Histogram(\n",
    "    trace_names=['Random strategy', 'DMAC strategy'],\n",
    "    title='%s distribution' % metric,\n",
    "    xaxis_tickformat='%',\n",
    "    annotations=[dict(\n",
    "        y=0, \n",
    "        xref='x', \n",
    "        yref='paper', \n",
    "        showarrow=True, \n",
    "        arrowcolor=\"black\",\n",
    "        arrowsize=1,\n",
    "        arrowwidth=1,\n",
    "        arrowhead=1,\n",
    "        xanchor='left', \n",
    "        text='Hold', \n",
    "        textangle=0,\n",
    "        font=dict(size=14),\n",
    "        bordercolor='black',\n",
    "        borderwidth=1,\n",
    "        bgcolor='white',\n",
    "        ax=0,\n",
    "        ay=-50,\n",
    "    )],\n",
    "    width=700,\n",
    "    height=250\n",
    ")\n",
    "\n",
    "# Heatmap (DMAC vs Holding)\n",
    "heatmap = vbt.plotting.Heatmap(\n",
    "    x_labels=np.arange(min_window, max_window+1),\n",
    "    y_labels=np.arange(min_window, max_window+1),\n",
    "    trace_kwargs=dict(\n",
    "        colorbar=dict(\n",
    "            tickformat='%', \n",
    "            ticks=\"outside\"\n",
    "        ), \n",
    "        colorscale='RdBu'),\n",
    "    title='%s by window' % metric,\n",
    "    width=650,\n",
    "    height=420\n",
    ")\n",
    "\n",
    "dmac_perf_matrix = None\n",
    "rand_perf_matrix = None\n",
    "hold_value = None\n",
    "\n",
    "def update_heatmap_colorscale(perf_matrix):\n",
    "    # Update heatmap colorscale based on performance matrix\n",
    "    with heatmap.fig.batch_update():\n",
    "        heatmap.fig.data[0].zmid = hold_value\n",
    "        heatmap.fig.data[0].colorbar.tickvals = [\n",
    "            np.nanmin(perf_matrix), \n",
    "            hold_value, \n",
    "            np.nanmax(perf_matrix)\n",
    "        ]\n",
    "        heatmap.fig.data[0].colorbar.ticktext = [\n",
    "            'Min: {:.0%}'.format(np.nanmin(perf_matrix)).ljust(12), \n",
    "            'Hold: {:.0%}'.format(hold_value).ljust(12), \n",
    "            'Max: {:.0%}'.format(np.nanmax(perf_matrix)).ljust(12)\n",
    "        ]\n",
    "    \n",
    "def update_histogram(dmac_perf_matrix, rand_perf_matrix, hold_value):\n",
    "    # Update histogram figure\n",
    "    with histogram.fig.batch_update():\n",
    "        histogram.update(\n",
    "            np.asarray([\n",
    "                rand_perf_matrix.values.flatten(),\n",
    "                dmac_perf_matrix.values.flatten()\n",
    "            ]).transpose()\n",
    "        )\n",
    "        histogram.fig.layout.annotations[0].x = hold_value\n",
    "\n",
    "def update_figs(from_date, to_date):\n",
    "    global dmac_perf_matrix, rand_perf_matrix, hold_value # needed for on_heatmap_change\n",
    "    \n",
    "    # Build portfolios\n",
    "    dmac_pf = dmac_pf_from_date_range(from_date, to_date)\n",
    "    rand_pf = rand_pf_from_date_range(from_date, to_date)\n",
    "    hold_pf = hold_pf_from_date_range(from_date, to_date)\n",
    "\n",
    "    # Calculate performance\n",
    "    dmac_perf_matrix = dmac_pf.deep_getattr(metric)\n",
    "    dmac_perf_matrix = dmac_perf_matrix.vbt.unstack_to_df(\n",
    "        symmetric=True, index_levels='fast_ma_window', column_levels='slow_ma_window')\n",
    "    rand_perf_matrix = rand_pf.deep_getattr(metric)\n",
    "    rand_perf_matrix = rand_perf_matrix.vbt.unstack_to_df(\n",
    "        symmetric=True, index_levels='fast_ma_window', column_levels='slow_ma_window')\n",
    "    hold_value = hold_pf.deep_getattr(metric)\n",
    "\n",
    "    # Update figures\n",
    "    update_histogram(dmac_perf_matrix, rand_perf_matrix, hold_value)\n",
    "    with ts_fig.batch_update():\n",
    "        ts_fig.update_xaxes(range=(from_date, to_date))\n",
    "        ts_fig.layout.annotations[0].text = 'Hold: %.f%%' % (hold_value * 100)\n",
    "    with heatmap.fig.batch_update():\n",
    "        heatmap.update(dmac_perf_matrix)\n",
    "        update_heatmap_colorscale(dmac_perf_matrix.values)\n",
    "\n",
    "def on_ts_change(layout, x_range):\n",
    "    global dmac_perf_matrix, rand_perf_matrix, hold_value # needed for on_heatmap_change\n",
    "    \n",
    "    if isinstance(x_range[0], str) and isinstance(x_range[1], str):\n",
    "        update_figs(x_range[0], x_range[1])\n",
    "\n",
    "ts_fig.layout.on_change(on_ts_change, 'xaxis.range')\n",
    "\n",
    "def on_heatmap_change(layout, x_range, y_range):\n",
    "    if dmac_perf_matrix is not None:\n",
    "        x_mask = (dmac_perf_matrix.columns >= x_range[0]) & (dmac_perf_matrix.columns <= x_range[1])\n",
    "        y_mask = (dmac_perf_matrix.index >= y_range[0]) & (dmac_perf_matrix.index <= y_range[1])\n",
    "        if x_mask.any() and y_mask.any():\n",
    "            # Update widgets\n",
    "            sub_dmac_perf_matrix = dmac_perf_matrix.loc[y_mask, x_mask] # y_mask is index, x_mask is columns\n",
    "            sub_rand_perf_matrix = rand_perf_matrix.loc[y_mask, x_mask]\n",
    "            update_histogram(sub_dmac_perf_matrix, sub_rand_perf_matrix, hold_value)\n",
    "            update_heatmap_colorscale(sub_dmac_perf_matrix.values)\n",
    "        \n",
    "heatmap.fig.layout.on_change(on_heatmap_change, 'xaxis.range', 'yaxis.range')\n",
    "\n",
    "dashboard = widgets.VBox([\n",
    "    ts_fig,\n",
    "    histogram.fig,\n",
    "    heatmap.fig\n",
    "])\n",
    "dashboard"
   ]
  }
 ],
 "metadata": {
  "kernelspec": {
   "display_name": "Python 3 (ipykernel)",
   "language": "python",
   "name": "python3"
  },
  "language_info": {
   "codemirror_mode": {
    "name": "ipython",
    "version": 3
   },
   "file_extension": ".py",
   "mimetype": "text/x-python",
   "name": "python",
   "nbconvert_exporter": "python",
   "pygments_lexer": "ipython3",
   "version": "3.10.12"
  }
 },
 "nbformat": 4,
 "nbformat_minor": 5
}
